{
 "cells": [
  {
   "cell_type": "code",
   "execution_count": 4,
   "metadata": {},
   "outputs": [],
   "source": [
    "import pandas as pd\n",
    "from src.utils import get_recommendations\n",
    "import pickle"
   ]
  },
  {
   "cell_type": "code",
   "execution_count": 3,
   "metadata": {},
   "outputs": [],
   "source": [
    "import pandas as pd"
   ]
  },
  {
   "cell_type": "code",
   "execution_count": 5,
   "metadata": {},
   "outputs": [],
   "source": [
    "songs = pd.read_pickle('artifacts/unique_refined_dataset.pkl')\n",
    "top_100_similarity_scores = pickle.load(open('artifacts/unique_top_100_cos_similarity.pkl','rb'))"
   ]
  },
  {
   "cell_type": "code",
   "execution_count": 11,
   "metadata": {},
   "outputs": [
    {
     "data": {
      "text/plain": [
       "Index(['name', 'uri', 'artists_names', 'release_year', 'popularity',\n",
       "       'images_url', 'song-artist'],\n",
       "      dtype='object')"
      ]
     },
     "execution_count": 11,
     "metadata": {},
     "output_type": "execute_result"
    }
   ],
   "source": [
    "songs.columns"
   ]
  },
  {
   "cell_type": "code",
   "execution_count": 27,
   "metadata": {},
   "outputs": [],
   "source": [
    "def recommend(title, top_100_similarity_scores, dataset, no_of_recs = 10):\n",
    "    \n",
    "    idx = dataset[dataset['name']==title].index[0][0]\n",
    "\n",
    "    if isinstance(idx, pd.Series):\n",
    "        idx = idx[0]\n",
    "\n",
    "\n",
    "    top = top_100_similarity_scores[idx]\n",
    "    print(songs.iloc[top[0][0]])\n",
    "    recommended_indices = [x[0] for x in top]\n",
    "    \n",
    "\n",
    "    rec_song_names = dataset.iloc[recommended_indices]['name'].values[0:no_of_recs]\n",
    "    rec_song_artists = dataset.iloc[recommended_indices]['artists_names'].values[0:no_of_recs]\n",
    "    rec_song_link = dataset.iloc[recommended_indices]['uri'].values[0:no_of_recs]\n",
    "    rec_song_images = dataset.iloc[recommended_indices]['images_url'].values[0:no_of_recs]\n",
    "\n",
    "    rec_song_popularity = list(enumerate(dataset.iloc[list(recommended_indices)]['popularity'].values))[0:no_of_recs]\n",
    "    \n",
    "    print(rec_song_names)\n",
    "\n",
    "    sorted_songs_based_on_popularity = sorted(rec_song_popularity, key= lambda x: x[1], reverse=True)\n",
    "    rec_song_indices_on_popularity, rec_scores_on_popularity = zip(*sorted_songs_based_on_popularity)\n",
    "\n",
    "    recommended_data = [[rec_song_names[i], rec_song_artists[i],rec_song_link[i],rec_song_images[i]]\n",
    "                        for i in rec_song_indices_on_popularity]\n",
    "\n",
    "    recommended_dataframe = pd.DataFrame(recommended_data, columns = [\"Name\", \"Artist\", \"Link\", \"Image\"])   \n",
    "\n",
    "    return recommended_dataframe\n"
   ]
  },
  {
   "cell_type": "code",
   "execution_count": 30,
   "metadata": {},
   "outputs": [
    {
     "name": "stdout",
     "output_type": "stream",
     "text": [
      "name                                                Gravy For Pope\n",
      "uri                           spotify:track:6HUFOiTIGCizkemQxhQTao\n",
      "artists_names                                         [Yung Gravy]\n",
      "release_year                                                  2019\n",
      "popularity                                                      45\n",
      "images_url       https://i.scdn.co/image/ab67616d0000b27315353e...\n",
      "song-artist                            Gravy For Pope - Yung Gravy\n",
      "Name: (12008, 6HUFOiTIGCizkemQxhQTao), dtype: object\n",
      "['Gravy For Pope' 'Aftershock' 'Job Done' 'Body' 'AKUMA187'\n",
      " 'Einsamer Wolf' 'Amg' 'Chopstix' 'Pennywise'\n",
      " 'Favorite Colors (feat. Kyle)']\n"
     ]
    },
    {
     "data": {
      "text/html": [
       "<div>\n",
       "<style scoped>\n",
       "    .dataframe tbody tr th:only-of-type {\n",
       "        vertical-align: middle;\n",
       "    }\n",
       "\n",
       "    .dataframe tbody tr th {\n",
       "        vertical-align: top;\n",
       "    }\n",
       "\n",
       "    .dataframe thead th {\n",
       "        text-align: right;\n",
       "    }\n",
       "</style>\n",
       "<table border=\"1\" class=\"dataframe\">\n",
       "  <thead>\n",
       "    <tr style=\"text-align: right;\">\n",
       "      <th></th>\n",
       "      <th>Name</th>\n",
       "      <th>Artist</th>\n",
       "      <th>Link</th>\n",
       "      <th>Image</th>\n",
       "    </tr>\n",
       "  </thead>\n",
       "  <tbody>\n",
       "    <tr>\n",
       "      <th>0</th>\n",
       "      <td>Aftershock</td>\n",
       "      <td>[Pouya]</td>\n",
       "      <td>spotify:track:0diqiEUdyPcBJ1jQuP9cBn</td>\n",
       "      <td>https://i.scdn.co/image/ab67616d0000b273bbe040...</td>\n",
       "    </tr>\n",
       "    <tr>\n",
       "      <th>1</th>\n",
       "      <td>Amg</td>\n",
       "      <td>[Baby Smoove]</td>\n",
       "      <td>spotify:track:6hBocfeNzPiXXIQVZ7h9Xm</td>\n",
       "      <td>https://i.scdn.co/image/ab67616d0000b273f06bee...</td>\n",
       "    </tr>\n",
       "    <tr>\n",
       "      <th>2</th>\n",
       "      <td>Favorite Colors (feat. Kyle)</td>\n",
       "      <td>[Taylor Bennett, Luke Tennyson, KYLE]</td>\n",
       "      <td>spotify:track:4dNwzB7yuTf8jSYZSlok7C</td>\n",
       "      <td>https://i.scdn.co/image/ab67616d0000b273416b00...</td>\n",
       "    </tr>\n",
       "    <tr>\n",
       "      <th>3</th>\n",
       "      <td>Pennywise</td>\n",
       "      <td>[Josh A, iamjakehill]</td>\n",
       "      <td>spotify:track:6taAKrEE1wGVN3QkzeNzOf</td>\n",
       "      <td>https://i.scdn.co/image/ab67616d0000b27318e150...</td>\n",
       "    </tr>\n",
       "    <tr>\n",
       "      <th>4</th>\n",
       "      <td>Gravy For Pope</td>\n",
       "      <td>[Yung Gravy]</td>\n",
       "      <td>spotify:track:6HUFOiTIGCizkemQxhQTao</td>\n",
       "      <td>https://i.scdn.co/image/ab67616d0000b27315353e...</td>\n",
       "    </tr>\n",
       "    <tr>\n",
       "      <th>5</th>\n",
       "      <td>Body</td>\n",
       "      <td>[Lil Bunbuns, $atori Zoom]</td>\n",
       "      <td>spotify:track:3GG8OxytIQP34vapdafjnb</td>\n",
       "      <td>https://i.scdn.co/image/ab67616d0000b2734b9044...</td>\n",
       "    </tr>\n",
       "    <tr>\n",
       "      <th>6</th>\n",
       "      <td>Einsamer Wolf</td>\n",
       "      <td>[Depth Strida]</td>\n",
       "      <td>spotify:track:7yWvQcrVxBdd4yvAeA0w9x</td>\n",
       "      <td>https://i.scdn.co/image/ab67616d0000b273ef6fb7...</td>\n",
       "    </tr>\n",
       "    <tr>\n",
       "      <th>7</th>\n",
       "      <td>Chopstix</td>\n",
       "      <td>[Craig Xen]</td>\n",
       "      <td>spotify:track:1Wk8mym2Gv0NDpMkKA5aWk</td>\n",
       "      <td>https://i.scdn.co/image/ab67616d0000b2736ad0fe...</td>\n",
       "    </tr>\n",
       "    <tr>\n",
       "      <th>8</th>\n",
       "      <td>AKUMA187</td>\n",
       "      <td>[Eric Kxng]</td>\n",
       "      <td>spotify:track:3cyX5gtRfHDm5OlWNfZFCW</td>\n",
       "      <td>https://i.scdn.co/image/ab67616d0000b2730d2856...</td>\n",
       "    </tr>\n",
       "    <tr>\n",
       "      <th>9</th>\n",
       "      <td>Job Done</td>\n",
       "      <td>[LocoCity]</td>\n",
       "      <td>spotify:track:0bLcyYNAPLh6oQTGnRxvSC</td>\n",
       "      <td>https://i.scdn.co/image/ab67616d0000b27371dac5...</td>\n",
       "    </tr>\n",
       "  </tbody>\n",
       "</table>\n",
       "</div>"
      ],
      "text/plain": [
       "                           Name                                 Artist  \\\n",
       "0                    Aftershock                                [Pouya]   \n",
       "1                           Amg                          [Baby Smoove]   \n",
       "2  Favorite Colors (feat. Kyle)  [Taylor Bennett, Luke Tennyson, KYLE]   \n",
       "3                     Pennywise                  [Josh A, iamjakehill]   \n",
       "4                Gravy For Pope                           [Yung Gravy]   \n",
       "5                          Body             [Lil Bunbuns, $atori Zoom]   \n",
       "6                 Einsamer Wolf                         [Depth Strida]   \n",
       "7                      Chopstix                            [Craig Xen]   \n",
       "8                      AKUMA187                            [Eric Kxng]   \n",
       "9                      Job Done                             [LocoCity]   \n",
       "\n",
       "                                   Link  \\\n",
       "0  spotify:track:0diqiEUdyPcBJ1jQuP9cBn   \n",
       "1  spotify:track:6hBocfeNzPiXXIQVZ7h9Xm   \n",
       "2  spotify:track:4dNwzB7yuTf8jSYZSlok7C   \n",
       "3  spotify:track:6taAKrEE1wGVN3QkzeNzOf   \n",
       "4  spotify:track:6HUFOiTIGCizkemQxhQTao   \n",
       "5  spotify:track:3GG8OxytIQP34vapdafjnb   \n",
       "6  spotify:track:7yWvQcrVxBdd4yvAeA0w9x   \n",
       "7  spotify:track:1Wk8mym2Gv0NDpMkKA5aWk   \n",
       "8  spotify:track:3cyX5gtRfHDm5OlWNfZFCW   \n",
       "9  spotify:track:0bLcyYNAPLh6oQTGnRxvSC   \n",
       "\n",
       "                                               Image  \n",
       "0  https://i.scdn.co/image/ab67616d0000b273bbe040...  \n",
       "1  https://i.scdn.co/image/ab67616d0000b273f06bee...  \n",
       "2  https://i.scdn.co/image/ab67616d0000b273416b00...  \n",
       "3  https://i.scdn.co/image/ab67616d0000b27318e150...  \n",
       "4  https://i.scdn.co/image/ab67616d0000b27315353e...  \n",
       "5  https://i.scdn.co/image/ab67616d0000b2734b9044...  \n",
       "6  https://i.scdn.co/image/ab67616d0000b273ef6fb7...  \n",
       "7  https://i.scdn.co/image/ab67616d0000b2736ad0fe...  \n",
       "8  https://i.scdn.co/image/ab67616d0000b2730d2856...  \n",
       "9  https://i.scdn.co/image/ab67616d0000b27371dac5...  "
      ]
     },
     "execution_count": 30,
     "metadata": {},
     "output_type": "execute_result"
    }
   ],
   "source": [
    "recommend(\"Mask Off (feat. Kendrick Lamar) - Remix\", top_100_similarity_scores, songs)"
   ]
  }
 ],
 "metadata": {
  "kernelspec": {
   "display_name": "graduate_env",
   "language": "python",
   "name": "graduate_env"
  },
  "language_info": {
   "codemirror_mode": {
    "name": "ipython",
    "version": 3
   },
   "file_extension": ".py",
   "mimetype": "text/x-python",
   "name": "python",
   "nbconvert_exporter": "python",
   "pygments_lexer": "ipython3",
   "version": "3.10.8"
  }
 },
 "nbformat": 4,
 "nbformat_minor": 2
}
