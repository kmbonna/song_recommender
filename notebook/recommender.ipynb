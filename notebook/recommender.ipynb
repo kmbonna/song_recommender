{
 "cells": [
  {
   "cell_type": "markdown",
   "id": "5563335b",
   "metadata": {},
   "source": [
    "# Music Recommender"
   ]
  },
  {
   "cell_type": "markdown",
   "id": "492ae8d8",
   "metadata": {},
   "source": [
    "This will be a music recommender prototype, I will first start to look at the data and see if it needs any enhancements, then maybe some visualisations to understand more, then a basic recommender, easing my way up to complex ones."
   ]
  },
  {
   "cell_type": "code",
   "execution_count": 51,
   "id": "5a8d1166",
   "metadata": {},
   "outputs": [],
   "source": [
    "import pandas as pd\n",
    "import numpy as np"
   ]
  },
  {
   "cell_type": "code",
   "execution_count": 93,
   "id": "fc26c6f2",
   "metadata": {},
   "outputs": [],
   "source": [
    "# Load the JSON file back into a DataFrame\n",
    "orig_dataset = pd.read_json('data/try_cured_dataset.json', lines=True)\n",
    "dataset = orig_dataset.copy()"
   ]
  },
  {
   "cell_type": "code",
   "execution_count": 94,
   "id": "36f69f5e",
   "metadata": {},
   "outputs": [
    {
     "data": {
      "text/html": [
       "<div>\n",
       "<style scoped>\n",
       "    .dataframe tbody tr th:only-of-type {\n",
       "        vertical-align: middle;\n",
       "    }\n",
       "\n",
       "    .dataframe tbody tr th {\n",
       "        vertical-align: top;\n",
       "    }\n",
       "\n",
       "    .dataframe thead th {\n",
       "        text-align: right;\n",
       "    }\n",
       "</style>\n",
       "<table border=\"1\" class=\"dataframe\">\n",
       "  <thead>\n",
       "    <tr style=\"text-align: right;\">\n",
       "      <th></th>\n",
       "      <th>id</th>\n",
       "      <th>genres</th>\n",
       "      <th>danceability</th>\n",
       "      <th>energy</th>\n",
       "      <th>key</th>\n",
       "      <th>loudness</th>\n",
       "      <th>mode</th>\n",
       "      <th>speechiness</th>\n",
       "      <th>acousticness</th>\n",
       "      <th>instrumentalness</th>\n",
       "      <th>...</th>\n",
       "      <th>name</th>\n",
       "      <th>popularity</th>\n",
       "      <th>release_date</th>\n",
       "      <th>artists_names</th>\n",
       "      <th>images_url</th>\n",
       "      <th>no_of_sections</th>\n",
       "      <th>tempo_confidence</th>\n",
       "      <th>mode_confidence</th>\n",
       "      <th>key_confidence</th>\n",
       "      <th>name_artist</th>\n",
       "    </tr>\n",
       "  </thead>\n",
       "  <tbody>\n",
       "    <tr>\n",
       "      <th>0</th>\n",
       "      <td>2Vc6NJ9PW9gD9q343XFRKx</td>\n",
       "      <td>[Dark Trap, Underground Rap, Rap]</td>\n",
       "      <td>0.831</td>\n",
       "      <td>0.814</td>\n",
       "      <td>2</td>\n",
       "      <td>-7.364</td>\n",
       "      <td>1</td>\n",
       "      <td>0.4200</td>\n",
       "      <td>0.0598</td>\n",
       "      <td>0.0134</td>\n",
       "      <td>...</td>\n",
       "      <td>Mercury: Retrograde</td>\n",
       "      <td>2</td>\n",
       "      <td>2017-09-05</td>\n",
       "      <td>[Ghostemane]</td>\n",
       "      <td>https://i.scdn.co/image/ab67616d0000b27347fa48...</td>\n",
       "      <td>8</td>\n",
       "      <td>0.307</td>\n",
       "      <td>0.543</td>\n",
       "      <td>0.506</td>\n",
       "      <td>Mercury: Retrograde['Ghostemane']</td>\n",
       "    </tr>\n",
       "    <tr>\n",
       "      <th>1</th>\n",
       "      <td>7pgJBLVz5VmnL7uGHmRj6p</td>\n",
       "      <td>[Dark Trap]</td>\n",
       "      <td>0.719</td>\n",
       "      <td>0.493</td>\n",
       "      <td>8</td>\n",
       "      <td>-7.230</td>\n",
       "      <td>1</td>\n",
       "      <td>0.0794</td>\n",
       "      <td>0.4010</td>\n",
       "      <td>0.0000</td>\n",
       "      <td>...</td>\n",
       "      <td>Pathology</td>\n",
       "      <td>37</td>\n",
       "      <td>2020-11-20</td>\n",
       "      <td>[Don Kenobi, SkyDxddy]</td>\n",
       "      <td>https://i.scdn.co/image/ab67616d0000b27391b3f8...</td>\n",
       "      <td>11</td>\n",
       "      <td>0.343</td>\n",
       "      <td>0.542</td>\n",
       "      <td>0.414</td>\n",
       "      <td>Pathology['Don Kenobi', 'SkyDxddy']</td>\n",
       "    </tr>\n",
       "  </tbody>\n",
       "</table>\n",
       "<p>2 rows × 26 columns</p>\n",
       "</div>"
      ],
      "text/plain": [
       "                       id                             genres  danceability  \\\n",
       "0  2Vc6NJ9PW9gD9q343XFRKx  [Dark Trap, Underground Rap, Rap]         0.831   \n",
       "1  7pgJBLVz5VmnL7uGHmRj6p                        [Dark Trap]         0.719   \n",
       "\n",
       "   energy  key  loudness  mode  speechiness  acousticness  instrumentalness  \\\n",
       "0   0.814    2    -7.364     1       0.4200        0.0598            0.0134   \n",
       "1   0.493    8    -7.230     1       0.0794        0.4010            0.0000   \n",
       "\n",
       "   ...                 name  popularity  release_date           artists_names  \\\n",
       "0  ...  Mercury: Retrograde           2    2017-09-05            [Ghostemane]   \n",
       "1  ...            Pathology          37    2020-11-20  [Don Kenobi, SkyDxddy]   \n",
       "\n",
       "                                          images_url no_of_sections  \\\n",
       "0  https://i.scdn.co/image/ab67616d0000b27347fa48...              8   \n",
       "1  https://i.scdn.co/image/ab67616d0000b27391b3f8...             11   \n",
       "\n",
       "  tempo_confidence  mode_confidence key_confidence  \\\n",
       "0            0.307            0.543          0.506   \n",
       "1            0.343            0.542          0.414   \n",
       "\n",
       "                           name_artist  \n",
       "0    Mercury: Retrograde['Ghostemane']  \n",
       "1  Pathology['Don Kenobi', 'SkyDxddy']  \n",
       "\n",
       "[2 rows x 26 columns]"
      ]
     },
     "execution_count": 94,
     "metadata": {},
     "output_type": "execute_result"
    }
   ],
   "source": [
    "dataset.head(2)"
   ]
  },
  {
   "cell_type": "code",
   "execution_count": 95,
   "id": "fead5c1a",
   "metadata": {},
   "outputs": [],
   "source": [
    "exploded_dataset = dataset.explode('genres')"
   ]
  },
  {
   "cell_type": "markdown",
   "id": "b65194d8",
   "metadata": {},
   "source": [
    "## Create meta features that would involve the confidence measures"
   ]
  },
  {
   "cell_type": "markdown",
   "id": "3cb3c806",
   "metadata": {},
   "source": [
    "#### Metafeature for the tempo using the tempo confidence:<br>\n",
    "<center>$MT = c_t*t_{measured} + (1-c_t)*t_{average}$</center>\n",
    "\n",
    "Where:\n",
    "- MT is the metatempo (metafeature to be used)\n",
    "- $c_t$ is the confidence in the measurement of the tempo\n",
    "- $t_{measured}$ is the measured tempo\n",
    "- $t_{average}$ is the average tempo for the genre of that song"
   ]
  },
  {
   "cell_type": "code",
   "execution_count": 96,
   "id": "1eecf76b",
   "metadata": {},
   "outputs": [],
   "source": [
    "avtempo = exploded_dataset.groupby('genres')['tempo'].mean().to_dict()"
   ]
  },
  {
   "cell_type": "code",
   "execution_count": 97,
   "id": "40579971",
   "metadata": {},
   "outputs": [],
   "source": [
    "def makemetatempo(entry):\n",
    "    if len(entry['genres']) > 1:\n",
    "        av_av_tempo = np.mean([avtempo[key] for key in entry['genres'] if key in avtempo])\n",
    "        res = (entry['tempo_confidence'] * entry['tempo']) + ((1 - entry['tempo_confidence']) * av_av_tempo)\n",
    "        \n",
    "    else:\n",
    "        res = (entry['tempo_confidence'] * entry['tempo']) + ((1 - entry['tempo_confidence']) * avtempo[entry['genres'][0]])\n",
    "        \n",
    "    return round(res,3)\n",
    "\n",
    "dataset['meta_tempo'] = dataset.apply(makemetatempo, axis=1)"
   ]
  },
  {
   "cell_type": "markdown",
   "id": "56a35f6a",
   "metadata": {},
   "source": [
    "<br>"
   ]
  },
  {
   "cell_type": "markdown",
   "id": "52a5e6e6",
   "metadata": {},
   "source": [
    "### Metafeature for the mode:"
   ]
  },
  {
   "cell_type": "markdown",
   "id": "fe5c868a",
   "metadata": {},
   "source": [
    "What we essentially have here is a mode measurement (0 or 1) that represents whether the song is in major or minor. But we also have its confidence in measurements as a float between 0 and 1. "
   ]
  },
  {
   "cell_type": "markdown",
   "id": "81d7762e",
   "metadata": {},
   "source": [
    "What we then want is to incorporate both the measurement and the confidence to produce a new metafeature that will depend on both. The boundary conditions intuitively tells us that if a mode is measured as 1 and has a high confidence value it should be high (closer to 1) and vice versa. We also want it so that if the confidence has a very low value, it outputs a result close to 0.5 (showcasing complete uncertainity between 0 and 1)."
   ]
  },
  {
   "cell_type": "markdown",
   "id": "30f02b20",
   "metadata": {},
   "source": [
    "It was decided that a custom sigmoid transformation could be used. and $1-sigmoid$ would also be used in the case of a mode of 0, showcased below in a graph:"
   ]
  },
  {
   "attachments": {
    "download.png": {
     "image/png": "[encoded data removed]"
    }
   },
   "cell_type": "markdown",
   "id": "8619b237",
   "metadata": {},
   "source": [
    "![download.png](attachment:download.png)"
   ]
  },
  {
   "cell_type": "code",
   "execution_count": 98,
   "id": "8b42cc17",
   "metadata": {},
   "outputs": [],
   "source": [
    "def sigmoid(x):\n",
    "    return 1 / (1 + 2**(-4*x))\n",
    "\n",
    "def makemodetempo(entry):\n",
    "    sig_transform = sigmoid(entry['mode_confidence'])\n",
    "     \n",
    "    output = np.where(entry['mode'] == 1, sig_transform, 1 - sig_transform)\n",
    "    \n",
    "    return np.round(output,3)\n",
    "    "
   ]
  },
  {
   "cell_type": "code",
   "execution_count": 99,
   "id": "154d3a63",
   "metadata": {},
   "outputs": [],
   "source": [
    "dataset['meta_mode'] = dataset.apply(makemodetempo, axis=1)"
   ]
  },
  {
   "cell_type": "code",
   "execution_count": 100,
   "id": "59b7dbcd",
   "metadata": {},
   "outputs": [
    {
     "data": {
      "text/html": [
       "<div>\n",
       "<style scoped>\n",
       "    .dataframe tbody tr th:only-of-type {\n",
       "        vertical-align: middle;\n",
       "    }\n",
       "\n",
       "    .dataframe tbody tr th {\n",
       "        vertical-align: top;\n",
       "    }\n",
       "\n",
       "    .dataframe thead th {\n",
       "        text-align: right;\n",
       "    }\n",
       "</style>\n",
       "<table border=\"1\" class=\"dataframe\">\n",
       "  <thead>\n",
       "    <tr style=\"text-align: right;\">\n",
       "      <th></th>\n",
       "      <th>id</th>\n",
       "      <th>genres</th>\n",
       "      <th>danceability</th>\n",
       "      <th>energy</th>\n",
       "      <th>key</th>\n",
       "      <th>loudness</th>\n",
       "      <th>mode</th>\n",
       "      <th>speechiness</th>\n",
       "      <th>acousticness</th>\n",
       "      <th>instrumentalness</th>\n",
       "      <th>...</th>\n",
       "      <th>release_date</th>\n",
       "      <th>artists_names</th>\n",
       "      <th>images_url</th>\n",
       "      <th>no_of_sections</th>\n",
       "      <th>tempo_confidence</th>\n",
       "      <th>mode_confidence</th>\n",
       "      <th>key_confidence</th>\n",
       "      <th>name_artist</th>\n",
       "      <th>meta_tempo</th>\n",
       "      <th>meta_mode</th>\n",
       "    </tr>\n",
       "  </thead>\n",
       "  <tbody>\n",
       "    <tr>\n",
       "      <th>0</th>\n",
       "      <td>2Vc6NJ9PW9gD9q343XFRKx</td>\n",
       "      <td>[Dark Trap, Underground Rap, Rap]</td>\n",
       "      <td>0.831</td>\n",
       "      <td>0.814</td>\n",
       "      <td>2</td>\n",
       "      <td>-7.364</td>\n",
       "      <td>1</td>\n",
       "      <td>0.4200</td>\n",
       "      <td>0.0598</td>\n",
       "      <td>0.0134</td>\n",
       "      <td>...</td>\n",
       "      <td>2017-09-05</td>\n",
       "      <td>[Ghostemane]</td>\n",
       "      <td>https://i.scdn.co/image/ab67616d0000b27347fa48...</td>\n",
       "      <td>8</td>\n",
       "      <td>0.307</td>\n",
       "      <td>0.543</td>\n",
       "      <td>0.506</td>\n",
       "      <td>Mercury: Retrograde['Ghostemane']</td>\n",
       "      <td>149.318</td>\n",
       "      <td>0.818</td>\n",
       "    </tr>\n",
       "    <tr>\n",
       "      <th>1</th>\n",
       "      <td>7pgJBLVz5VmnL7uGHmRj6p</td>\n",
       "      <td>[Dark Trap]</td>\n",
       "      <td>0.719</td>\n",
       "      <td>0.493</td>\n",
       "      <td>8</td>\n",
       "      <td>-7.230</td>\n",
       "      <td>1</td>\n",
       "      <td>0.0794</td>\n",
       "      <td>0.4010</td>\n",
       "      <td>0.0000</td>\n",
       "      <td>...</td>\n",
       "      <td>2020-11-20</td>\n",
       "      <td>[Don Kenobi, SkyDxddy]</td>\n",
       "      <td>https://i.scdn.co/image/ab67616d0000b27391b3f8...</td>\n",
       "      <td>11</td>\n",
       "      <td>0.343</td>\n",
       "      <td>0.542</td>\n",
       "      <td>0.414</td>\n",
       "      <td>Pathology['Don Kenobi', 'SkyDxddy']</td>\n",
       "      <td>137.895</td>\n",
       "      <td>0.818</td>\n",
       "    </tr>\n",
       "  </tbody>\n",
       "</table>\n",
       "<p>2 rows × 28 columns</p>\n",
       "</div>"
      ],
      "text/plain": [
       "                       id                             genres  danceability  \\\n",
       "0  2Vc6NJ9PW9gD9q343XFRKx  [Dark Trap, Underground Rap, Rap]         0.831   \n",
       "1  7pgJBLVz5VmnL7uGHmRj6p                        [Dark Trap]         0.719   \n",
       "\n",
       "   energy  key  loudness  mode  speechiness  acousticness  instrumentalness  \\\n",
       "0   0.814    2    -7.364     1       0.4200        0.0598            0.0134   \n",
       "1   0.493    8    -7.230     1       0.0794        0.4010            0.0000   \n",
       "\n",
       "   ...  release_date           artists_names  \\\n",
       "0  ...    2017-09-05            [Ghostemane]   \n",
       "1  ...    2020-11-20  [Don Kenobi, SkyDxddy]   \n",
       "\n",
       "                                          images_url  no_of_sections  \\\n",
       "0  https://i.scdn.co/image/ab67616d0000b27347fa48...               8   \n",
       "1  https://i.scdn.co/image/ab67616d0000b27391b3f8...              11   \n",
       "\n",
       "   tempo_confidence mode_confidence key_confidence  \\\n",
       "0             0.307           0.543          0.506   \n",
       "1             0.343           0.542          0.414   \n",
       "\n",
       "                           name_artist meta_tempo meta_mode  \n",
       "0    Mercury: Retrograde['Ghostemane']    149.318     0.818  \n",
       "1  Pathology['Don Kenobi', 'SkyDxddy']    137.895     0.818  \n",
       "\n",
       "[2 rows x 28 columns]"
      ]
     },
     "execution_count": 100,
     "metadata": {},
     "output_type": "execute_result"
    }
   ],
   "source": [
    "dataset.head(2)"
   ]
  },
  {
   "cell_type": "markdown",
   "id": "b656aab4",
   "metadata": {},
   "source": [
    "<br>"
   ]
  },
  {
   "cell_type": "markdown",
   "id": "e3941b03",
   "metadata": {},
   "source": [
    "### Removing the scales for now"
   ]
  },
  {
   "cell_type": "markdown",
   "id": "b6038367",
   "metadata": {},
   "source": [
    "<br>"
   ]
  },
  {
   "cell_type": "markdown",
   "id": "1c9d6da9",
   "metadata": {},
   "source": [
    "### Rearranging the columns and setting the index to the id of the song"
   ]
  },
  {
   "cell_type": "code",
   "execution_count": 101,
   "id": "1d4615a4",
   "metadata": {},
   "outputs": [],
   "source": [
    "dataset.set_index('id', inplace=True, append=True)"
   ]
  },
  {
   "cell_type": "code",
   "execution_count": 102,
   "id": "47b6749c",
   "metadata": {},
   "outputs": [
    {
     "data": {
      "text/html": [
       "<div>\n",
       "<style scoped>\n",
       "    .dataframe tbody tr th:only-of-type {\n",
       "        vertical-align: middle;\n",
       "    }\n",
       "\n",
       "    .dataframe tbody tr th {\n",
       "        vertical-align: top;\n",
       "    }\n",
       "\n",
       "    .dataframe thead th {\n",
       "        text-align: right;\n",
       "    }\n",
       "</style>\n",
       "<table border=\"1\" class=\"dataframe\">\n",
       "  <thead>\n",
       "    <tr style=\"text-align: right;\">\n",
       "      <th></th>\n",
       "      <th></th>\n",
       "      <th>genres</th>\n",
       "      <th>danceability</th>\n",
       "      <th>energy</th>\n",
       "      <th>key</th>\n",
       "      <th>loudness</th>\n",
       "      <th>mode</th>\n",
       "      <th>speechiness</th>\n",
       "      <th>acousticness</th>\n",
       "      <th>instrumentalness</th>\n",
       "      <th>liveness</th>\n",
       "      <th>...</th>\n",
       "      <th>release_date</th>\n",
       "      <th>artists_names</th>\n",
       "      <th>images_url</th>\n",
       "      <th>no_of_sections</th>\n",
       "      <th>tempo_confidence</th>\n",
       "      <th>mode_confidence</th>\n",
       "      <th>key_confidence</th>\n",
       "      <th>name_artist</th>\n",
       "      <th>meta_tempo</th>\n",
       "      <th>meta_mode</th>\n",
       "    </tr>\n",
       "    <tr>\n",
       "      <th></th>\n",
       "      <th>id</th>\n",
       "      <th></th>\n",
       "      <th></th>\n",
       "      <th></th>\n",
       "      <th></th>\n",
       "      <th></th>\n",
       "      <th></th>\n",
       "      <th></th>\n",
       "      <th></th>\n",
       "      <th></th>\n",
       "      <th></th>\n",
       "      <th></th>\n",
       "      <th></th>\n",
       "      <th></th>\n",
       "      <th></th>\n",
       "      <th></th>\n",
       "      <th></th>\n",
       "      <th></th>\n",
       "      <th></th>\n",
       "      <th></th>\n",
       "      <th></th>\n",
       "      <th></th>\n",
       "    </tr>\n",
       "  </thead>\n",
       "  <tbody>\n",
       "    <tr>\n",
       "      <th>0</th>\n",
       "      <th>2Vc6NJ9PW9gD9q343XFRKx</th>\n",
       "      <td>[Dark Trap, Underground Rap, Rap]</td>\n",
       "      <td>0.831</td>\n",
       "      <td>0.814</td>\n",
       "      <td>2</td>\n",
       "      <td>-7.364</td>\n",
       "      <td>1</td>\n",
       "      <td>0.4200</td>\n",
       "      <td>0.0598</td>\n",
       "      <td>0.0134</td>\n",
       "      <td>0.0556</td>\n",
       "      <td>...</td>\n",
       "      <td>2017-09-05</td>\n",
       "      <td>[Ghostemane]</td>\n",
       "      <td>https://i.scdn.co/image/ab67616d0000b27347fa48...</td>\n",
       "      <td>8</td>\n",
       "      <td>0.307</td>\n",
       "      <td>0.543</td>\n",
       "      <td>0.506</td>\n",
       "      <td>Mercury: Retrograde['Ghostemane']</td>\n",
       "      <td>149.318</td>\n",
       "      <td>0.818</td>\n",
       "    </tr>\n",
       "    <tr>\n",
       "      <th>1</th>\n",
       "      <th>7pgJBLVz5VmnL7uGHmRj6p</th>\n",
       "      <td>[Dark Trap]</td>\n",
       "      <td>0.719</td>\n",
       "      <td>0.493</td>\n",
       "      <td>8</td>\n",
       "      <td>-7.230</td>\n",
       "      <td>1</td>\n",
       "      <td>0.0794</td>\n",
       "      <td>0.4010</td>\n",
       "      <td>0.0000</td>\n",
       "      <td>0.1180</td>\n",
       "      <td>...</td>\n",
       "      <td>2020-11-20</td>\n",
       "      <td>[Don Kenobi, SkyDxddy]</td>\n",
       "      <td>https://i.scdn.co/image/ab67616d0000b27391b3f8...</td>\n",
       "      <td>11</td>\n",
       "      <td>0.343</td>\n",
       "      <td>0.542</td>\n",
       "      <td>0.414</td>\n",
       "      <td>Pathology['Don Kenobi', 'SkyDxddy']</td>\n",
       "      <td>137.895</td>\n",
       "      <td>0.818</td>\n",
       "    </tr>\n",
       "  </tbody>\n",
       "</table>\n",
       "<p>2 rows × 27 columns</p>\n",
       "</div>"
      ],
      "text/plain": [
       "                                                     genres  danceability  \\\n",
       "  id                                                                        \n",
       "0 2Vc6NJ9PW9gD9q343XFRKx  [Dark Trap, Underground Rap, Rap]         0.831   \n",
       "1 7pgJBLVz5VmnL7uGHmRj6p                        [Dark Trap]         0.719   \n",
       "\n",
       "                          energy  key  loudness  mode  speechiness  \\\n",
       "  id                                                                 \n",
       "0 2Vc6NJ9PW9gD9q343XFRKx   0.814    2    -7.364     1       0.4200   \n",
       "1 7pgJBLVz5VmnL7uGHmRj6p   0.493    8    -7.230     1       0.0794   \n",
       "\n",
       "                          acousticness  instrumentalness  liveness  ...  \\\n",
       "  id                                                                ...   \n",
       "0 2Vc6NJ9PW9gD9q343XFRKx        0.0598            0.0134    0.0556  ...   \n",
       "1 7pgJBLVz5VmnL7uGHmRj6p        0.4010            0.0000    0.1180  ...   \n",
       "\n",
       "                          release_date           artists_names  \\\n",
       "  id                                                             \n",
       "0 2Vc6NJ9PW9gD9q343XFRKx    2017-09-05            [Ghostemane]   \n",
       "1 7pgJBLVz5VmnL7uGHmRj6p    2020-11-20  [Don Kenobi, SkyDxddy]   \n",
       "\n",
       "                                                                 images_url  \\\n",
       "  id                                                                          \n",
       "0 2Vc6NJ9PW9gD9q343XFRKx  https://i.scdn.co/image/ab67616d0000b27347fa48...   \n",
       "1 7pgJBLVz5VmnL7uGHmRj6p  https://i.scdn.co/image/ab67616d0000b27391b3f8...   \n",
       "\n",
       "                          no_of_sections tempo_confidence mode_confidence  \\\n",
       "  id                                                                        \n",
       "0 2Vc6NJ9PW9gD9q343XFRKx               8            0.307           0.543   \n",
       "1 7pgJBLVz5VmnL7uGHmRj6p              11            0.343           0.542   \n",
       "\n",
       "                          key_confidence                          name_artist  \\\n",
       "  id                                                                            \n",
       "0 2Vc6NJ9PW9gD9q343XFRKx           0.506    Mercury: Retrograde['Ghostemane']   \n",
       "1 7pgJBLVz5VmnL7uGHmRj6p           0.414  Pathology['Don Kenobi', 'SkyDxddy']   \n",
       "\n",
       "                         meta_tempo meta_mode  \n",
       "  id                                           \n",
       "0 2Vc6NJ9PW9gD9q343XFRKx    149.318     0.818  \n",
       "1 7pgJBLVz5VmnL7uGHmRj6p    137.895     0.818  \n",
       "\n",
       "[2 rows x 27 columns]"
      ]
     },
     "execution_count": 102,
     "metadata": {},
     "output_type": "execute_result"
    }
   ],
   "source": [
    "dataset.head(2)"
   ]
  },
  {
   "cell_type": "markdown",
   "id": "5929decf",
   "metadata": {},
   "source": [
    "#### We will also be using the image url, popularity, and uri columns after calculating the cosine similarity (image url for the prototypical website to showcase the song url, and the popularity to sort the top k songs according to the popularity, and the uri for th website to open the song straight away)"
   ]
  },
  {
   "cell_type": "markdown",
   "id": "17888e3e",
   "metadata": {},
   "source": [
    "### Transforming the release date only as the year\n",
    "(might be experimenting with the month later on)"
   ]
  },
  {
   "cell_type": "markdown",
   "id": "4c6724ba",
   "metadata": {},
   "source": [
    "deleting weird dates:"
   ]
  },
  {
   "cell_type": "code",
   "execution_count": 103,
   "id": "4ea899fc",
   "metadata": {},
   "outputs": [
    {
     "name": "stdout",
     "output_type": "stream",
     "text": [
      "33964\n",
      "33957\n"
     ]
    }
   ],
   "source": [
    "print(len(dataset))\n",
    "date_obj = pd.to_datetime(dataset['release_date'], errors='coerce').dt.year\n",
    "nan_date_positions = np.where(date_obj.isna())[0]  # Get positions as a 1D array\n",
    "\n",
    "# Drop rows with weird dates based on positions\n",
    "dataset.drop(index=dataset.index[nan_date_positions], inplace=True)\n",
    "\n",
    "print(len(dataset))"
   ]
  },
  {
   "cell_type": "code",
   "execution_count": 104,
   "id": "2abc65ed",
   "metadata": {},
   "outputs": [
    {
     "data": {
      "text/plain": [
       "MultiIndex([(    0, '2Vc6NJ9PW9gD9q343XFRKx'),\n",
       "            (    1, '7pgJBLVz5VmnL7uGHmRj6p'),\n",
       "            (    2, '0vSWgAlfpye0WCGeNmuNhy'),\n",
       "            (    3, '0VSXnJqQkwuH2ei1nOQ1nu'),\n",
       "            (    4, '4jCeguq9rMTlbMmPHuO7S3'),\n",
       "            (    5, '6fsypiJHyWmeINsOLC1cos'),\n",
       "            (    6, '0XfQbq7DaMOmVXgQ71eA6E'),\n",
       "            (    7, '0LLeuNBWPOg3XA73yab3PT'),\n",
       "            (    8, '37gqBnUAZe8BY8WR56kDNk'),\n",
       "            (    9, '2ggqfj97qyiORmXoVFzP5j'),\n",
       "            ...\n",
       "            (33954, '5AtNetUUIVaGUOniIoRYs7'),\n",
       "            (33955, '2pJC2rAkRmz3kxVugKsDD5'),\n",
       "            (33956, '2nj0bzqYZR7PXs0BoQTW3V'),\n",
       "            (33957, '4KM3VMk9QVuNGAOucnyxN0'),\n",
       "            (33958, '4zNXw433Mi463n3TmKxpbG'),\n",
       "            (33959, '4PMqy2vJjmv6ydGVqtCqPW'),\n",
       "            (33960, '46bXU7Sgj7104ZoXxzz9tM'),\n",
       "            (33961, '72DAt9Lbpy9EUS29OzQLob'),\n",
       "            (33962, '6HXgExFVuE1c3cq9QjFCcU'),\n",
       "            (33963, '6MAAMZImxcvYhRnxDLTufD')],\n",
       "           names=[None, 'id'], length=33964)"
      ]
     },
     "execution_count": 104,
     "metadata": {},
     "output_type": "execute_result"
    }
   ],
   "source": [
    "date_obj.index"
   ]
  },
  {
   "cell_type": "code",
   "execution_count": 105,
   "id": "66a0349a",
   "metadata": {},
   "outputs": [
    {
     "name": "stderr",
     "output_type": "stream",
     "text": [
      "C:\\Users\\Karim\\AppData\\Local\\Temp\\ipykernel_18828\\428889972.py:1: SettingWithCopyWarning: modifications to a property of a datetimelike object are not supported and are discarded. Change values on the original.\n",
      "  date_obj.drop(list(nan_date_positions), inplace=True, axis=0)\n"
     ]
    }
   ],
   "source": [
    "date_obj.drop(list(nan_date_positions), inplace=True, axis=0)"
   ]
  },
  {
   "cell_type": "markdown",
   "id": "e46332ab",
   "metadata": {},
   "source": [
    "adding the year column:"
   ]
  },
  {
   "cell_type": "code",
   "execution_count": 106,
   "id": "7d7940cd",
   "metadata": {},
   "outputs": [],
   "source": [
    "dataset['release_year'] = date_obj.astype(int)"
   ]
  },
  {
   "cell_type": "code",
   "execution_count": 107,
   "id": "43208f9e",
   "metadata": {},
   "outputs": [
    {
     "data": {
      "text/html": [
       "<div>\n",
       "<style scoped>\n",
       "    .dataframe tbody tr th:only-of-type {\n",
       "        vertical-align: middle;\n",
       "    }\n",
       "\n",
       "    .dataframe tbody tr th {\n",
       "        vertical-align: top;\n",
       "    }\n",
       "\n",
       "    .dataframe thead th {\n",
       "        text-align: right;\n",
       "    }\n",
       "</style>\n",
       "<table border=\"1\" class=\"dataframe\">\n",
       "  <thead>\n",
       "    <tr style=\"text-align: right;\">\n",
       "      <th></th>\n",
       "      <th></th>\n",
       "      <th>genres</th>\n",
       "      <th>danceability</th>\n",
       "      <th>energy</th>\n",
       "      <th>key</th>\n",
       "      <th>loudness</th>\n",
       "      <th>mode</th>\n",
       "      <th>speechiness</th>\n",
       "      <th>acousticness</th>\n",
       "      <th>instrumentalness</th>\n",
       "      <th>liveness</th>\n",
       "      <th>...</th>\n",
       "      <th>artists_names</th>\n",
       "      <th>images_url</th>\n",
       "      <th>no_of_sections</th>\n",
       "      <th>tempo_confidence</th>\n",
       "      <th>mode_confidence</th>\n",
       "      <th>key_confidence</th>\n",
       "      <th>name_artist</th>\n",
       "      <th>meta_tempo</th>\n",
       "      <th>meta_mode</th>\n",
       "      <th>release_year</th>\n",
       "    </tr>\n",
       "    <tr>\n",
       "      <th></th>\n",
       "      <th>id</th>\n",
       "      <th></th>\n",
       "      <th></th>\n",
       "      <th></th>\n",
       "      <th></th>\n",
       "      <th></th>\n",
       "      <th></th>\n",
       "      <th></th>\n",
       "      <th></th>\n",
       "      <th></th>\n",
       "      <th></th>\n",
       "      <th></th>\n",
       "      <th></th>\n",
       "      <th></th>\n",
       "      <th></th>\n",
       "      <th></th>\n",
       "      <th></th>\n",
       "      <th></th>\n",
       "      <th></th>\n",
       "      <th></th>\n",
       "      <th></th>\n",
       "      <th></th>\n",
       "    </tr>\n",
       "  </thead>\n",
       "  <tbody>\n",
       "    <tr>\n",
       "      <th>0</th>\n",
       "      <th>2Vc6NJ9PW9gD9q343XFRKx</th>\n",
       "      <td>[Dark Trap, Underground Rap, Rap]</td>\n",
       "      <td>0.831</td>\n",
       "      <td>0.814</td>\n",
       "      <td>2</td>\n",
       "      <td>-7.364</td>\n",
       "      <td>1</td>\n",
       "      <td>0.4200</td>\n",
       "      <td>0.0598</td>\n",
       "      <td>0.0134</td>\n",
       "      <td>0.0556</td>\n",
       "      <td>...</td>\n",
       "      <td>[Ghostemane]</td>\n",
       "      <td>https://i.scdn.co/image/ab67616d0000b27347fa48...</td>\n",
       "      <td>8</td>\n",
       "      <td>0.307</td>\n",
       "      <td>0.543</td>\n",
       "      <td>0.506</td>\n",
       "      <td>Mercury: Retrograde['Ghostemane']</td>\n",
       "      <td>149.318</td>\n",
       "      <td>0.818</td>\n",
       "      <td>2017</td>\n",
       "    </tr>\n",
       "    <tr>\n",
       "      <th>1</th>\n",
       "      <th>7pgJBLVz5VmnL7uGHmRj6p</th>\n",
       "      <td>[Dark Trap]</td>\n",
       "      <td>0.719</td>\n",
       "      <td>0.493</td>\n",
       "      <td>8</td>\n",
       "      <td>-7.230</td>\n",
       "      <td>1</td>\n",
       "      <td>0.0794</td>\n",
       "      <td>0.4010</td>\n",
       "      <td>0.0000</td>\n",
       "      <td>0.1180</td>\n",
       "      <td>...</td>\n",
       "      <td>[Don Kenobi, SkyDxddy]</td>\n",
       "      <td>https://i.scdn.co/image/ab67616d0000b27391b3f8...</td>\n",
       "      <td>11</td>\n",
       "      <td>0.343</td>\n",
       "      <td>0.542</td>\n",
       "      <td>0.414</td>\n",
       "      <td>Pathology['Don Kenobi', 'SkyDxddy']</td>\n",
       "      <td>137.895</td>\n",
       "      <td>0.818</td>\n",
       "      <td>2020</td>\n",
       "    </tr>\n",
       "  </tbody>\n",
       "</table>\n",
       "<p>2 rows × 28 columns</p>\n",
       "</div>"
      ],
      "text/plain": [
       "                                                     genres  danceability  \\\n",
       "  id                                                                        \n",
       "0 2Vc6NJ9PW9gD9q343XFRKx  [Dark Trap, Underground Rap, Rap]         0.831   \n",
       "1 7pgJBLVz5VmnL7uGHmRj6p                        [Dark Trap]         0.719   \n",
       "\n",
       "                          energy  key  loudness  mode  speechiness  \\\n",
       "  id                                                                 \n",
       "0 2Vc6NJ9PW9gD9q343XFRKx   0.814    2    -7.364     1       0.4200   \n",
       "1 7pgJBLVz5VmnL7uGHmRj6p   0.493    8    -7.230     1       0.0794   \n",
       "\n",
       "                          acousticness  instrumentalness  liveness  ...  \\\n",
       "  id                                                                ...   \n",
       "0 2Vc6NJ9PW9gD9q343XFRKx        0.0598            0.0134    0.0556  ...   \n",
       "1 7pgJBLVz5VmnL7uGHmRj6p        0.4010            0.0000    0.1180  ...   \n",
       "\n",
       "                                   artists_names  \\\n",
       "  id                                               \n",
       "0 2Vc6NJ9PW9gD9q343XFRKx            [Ghostemane]   \n",
       "1 7pgJBLVz5VmnL7uGHmRj6p  [Don Kenobi, SkyDxddy]   \n",
       "\n",
       "                                                                 images_url  \\\n",
       "  id                                                                          \n",
       "0 2Vc6NJ9PW9gD9q343XFRKx  https://i.scdn.co/image/ab67616d0000b27347fa48...   \n",
       "1 7pgJBLVz5VmnL7uGHmRj6p  https://i.scdn.co/image/ab67616d0000b27391b3f8...   \n",
       "\n",
       "                          no_of_sections  tempo_confidence mode_confidence  \\\n",
       "  id                                                                         \n",
       "0 2Vc6NJ9PW9gD9q343XFRKx               8             0.307           0.543   \n",
       "1 7pgJBLVz5VmnL7uGHmRj6p              11             0.343           0.542   \n",
       "\n",
       "                         key_confidence                          name_artist  \\\n",
       "  id                                                                           \n",
       "0 2Vc6NJ9PW9gD9q343XFRKx          0.506    Mercury: Retrograde['Ghostemane']   \n",
       "1 7pgJBLVz5VmnL7uGHmRj6p          0.414  Pathology['Don Kenobi', 'SkyDxddy']   \n",
       "\n",
       "                         meta_tempo meta_mode release_year  \n",
       "  id                                                        \n",
       "0 2Vc6NJ9PW9gD9q343XFRKx    149.318     0.818         2017  \n",
       "1 7pgJBLVz5VmnL7uGHmRj6p    137.895     0.818         2020  \n",
       "\n",
       "[2 rows x 28 columns]"
      ]
     },
     "execution_count": 107,
     "metadata": {},
     "output_type": "execute_result"
    }
   ],
   "source": [
    "dataset.head(2)"
   ]
  },
  {
   "cell_type": "markdown",
   "id": "275bd169",
   "metadata": {},
   "source": [
    "<br><br><br><br>"
   ]
  },
  {
   "cell_type": "markdown",
   "id": "7bb98542",
   "metadata": {},
   "source": [
    "## Creating the soup of the textual features"
   ]
  },
  {
   "cell_type": "markdown",
   "id": "380dd196",
   "metadata": {},
   "source": [
    "these include: \n",
    "- Artist Names\n",
    "- Genres\n",
    "- Could be experimenting with song titles"
   ]
  },
  {
   "cell_type": "markdown",
   "id": "53c40722",
   "metadata": {},
   "source": [
    "first, we clean these textual features to convert it all to lowercase and strip the spaces"
   ]
  },
  {
   "cell_type": "code",
   "execution_count": 108,
   "id": "9873ff5c",
   "metadata": {},
   "outputs": [],
   "source": [
    "# Function to convert all strings to lower case and strip names of spaces\n",
    "def clean_data(x):\n",
    "    if isinstance(x, list):\n",
    "        return [str.lower(i.replace(\" \", \"\")) for i in x]\n",
    "    else:\n",
    "        #Check if the feature exists. If not, return empty string\n",
    "        if isinstance(x, str):\n",
    "            return str.lower(x.replace(\" \", \"\"))\n",
    "        else:\n",
    "            return ''"
   ]
  },
  {
   "cell_type": "code",
   "execution_count": 109,
   "id": "521d0b86",
   "metadata": {},
   "outputs": [],
   "source": [
    "# Apply clean_data function to your features.\n",
    "dataset['lr_artists_names'] = dataset['artists_names'].apply(clean_data)\n",
    "dataset['lr_genres'] = dataset['genres'].apply(clean_data)"
   ]
  },
  {
   "cell_type": "markdown",
   "id": "33f92169",
   "metadata": {},
   "source": [
    "now we create the \"metadata soup\", which is a string that contains all the metadata that you want to feed to your vectorizer (namely the song name, artists and genres)."
   ]
  },
  {
   "cell_type": "markdown",
   "id": "8c805340",
   "metadata": {},
   "source": [
    "The create_soup function will simply join all the required columns by a space. This is the final preprocessing step, and the output of this function will be fed into the word vector model."
   ]
  },
  {
   "cell_type": "code",
   "execution_count": 110,
   "id": "17d22eb6",
   "metadata": {},
   "outputs": [],
   "source": [
    "def create_soup(x):\n",
    "    return ' '.join(x['lr_artists_names']) + ' ' + ' '.join(x['lr_genres'])"
   ]
  },
  {
   "cell_type": "code",
   "execution_count": 111,
   "id": "edcc92e7",
   "metadata": {},
   "outputs": [],
   "source": [
    "# Create a new soup feature\n",
    "dataset['soup'] = dataset.apply(create_soup, axis=1)"
   ]
  },
  {
   "cell_type": "code",
   "execution_count": 112,
   "id": "eb06b859",
   "metadata": {},
   "outputs": [
    {
     "data": {
      "text/html": [
       "<div>\n",
       "<style scoped>\n",
       "    .dataframe tbody tr th:only-of-type {\n",
       "        vertical-align: middle;\n",
       "    }\n",
       "\n",
       "    .dataframe tbody tr th {\n",
       "        vertical-align: top;\n",
       "    }\n",
       "\n",
       "    .dataframe thead th {\n",
       "        text-align: right;\n",
       "    }\n",
       "</style>\n",
       "<table border=\"1\" class=\"dataframe\">\n",
       "  <thead>\n",
       "    <tr style=\"text-align: right;\">\n",
       "      <th></th>\n",
       "      <th></th>\n",
       "      <th>genres</th>\n",
       "      <th>danceability</th>\n",
       "      <th>energy</th>\n",
       "      <th>key</th>\n",
       "      <th>loudness</th>\n",
       "      <th>mode</th>\n",
       "      <th>speechiness</th>\n",
       "      <th>acousticness</th>\n",
       "      <th>instrumentalness</th>\n",
       "      <th>liveness</th>\n",
       "      <th>...</th>\n",
       "      <th>tempo_confidence</th>\n",
       "      <th>mode_confidence</th>\n",
       "      <th>key_confidence</th>\n",
       "      <th>name_artist</th>\n",
       "      <th>meta_tempo</th>\n",
       "      <th>meta_mode</th>\n",
       "      <th>release_year</th>\n",
       "      <th>lr_artists_names</th>\n",
       "      <th>lr_genres</th>\n",
       "      <th>soup</th>\n",
       "    </tr>\n",
       "    <tr>\n",
       "      <th></th>\n",
       "      <th>id</th>\n",
       "      <th></th>\n",
       "      <th></th>\n",
       "      <th></th>\n",
       "      <th></th>\n",
       "      <th></th>\n",
       "      <th></th>\n",
       "      <th></th>\n",
       "      <th></th>\n",
       "      <th></th>\n",
       "      <th></th>\n",
       "      <th></th>\n",
       "      <th></th>\n",
       "      <th></th>\n",
       "      <th></th>\n",
       "      <th></th>\n",
       "      <th></th>\n",
       "      <th></th>\n",
       "      <th></th>\n",
       "      <th></th>\n",
       "      <th></th>\n",
       "      <th></th>\n",
       "    </tr>\n",
       "  </thead>\n",
       "  <tbody>\n",
       "    <tr>\n",
       "      <th>0</th>\n",
       "      <th>2Vc6NJ9PW9gD9q343XFRKx</th>\n",
       "      <td>[Dark Trap, Underground Rap, Rap]</td>\n",
       "      <td>0.831</td>\n",
       "      <td>0.814</td>\n",
       "      <td>2</td>\n",
       "      <td>-7.364</td>\n",
       "      <td>1</td>\n",
       "      <td>0.4200</td>\n",
       "      <td>0.0598</td>\n",
       "      <td>0.0134</td>\n",
       "      <td>0.0556</td>\n",
       "      <td>...</td>\n",
       "      <td>0.307</td>\n",
       "      <td>0.543</td>\n",
       "      <td>0.506</td>\n",
       "      <td>Mercury: Retrograde['Ghostemane']</td>\n",
       "      <td>149.318</td>\n",
       "      <td>0.818</td>\n",
       "      <td>2017</td>\n",
       "      <td>[ghostemane]</td>\n",
       "      <td>[darktrap, undergroundrap, rap]</td>\n",
       "      <td>ghostemane darktrap undergroundrap rap</td>\n",
       "    </tr>\n",
       "    <tr>\n",
       "      <th>1</th>\n",
       "      <th>7pgJBLVz5VmnL7uGHmRj6p</th>\n",
       "      <td>[Dark Trap]</td>\n",
       "      <td>0.719</td>\n",
       "      <td>0.493</td>\n",
       "      <td>8</td>\n",
       "      <td>-7.230</td>\n",
       "      <td>1</td>\n",
       "      <td>0.0794</td>\n",
       "      <td>0.4010</td>\n",
       "      <td>0.0000</td>\n",
       "      <td>0.1180</td>\n",
       "      <td>...</td>\n",
       "      <td>0.343</td>\n",
       "      <td>0.542</td>\n",
       "      <td>0.414</td>\n",
       "      <td>Pathology['Don Kenobi', 'SkyDxddy']</td>\n",
       "      <td>137.895</td>\n",
       "      <td>0.818</td>\n",
       "      <td>2020</td>\n",
       "      <td>[donkenobi, skydxddy]</td>\n",
       "      <td>[darktrap]</td>\n",
       "      <td>donkenobi skydxddy darktrap</td>\n",
       "    </tr>\n",
       "  </tbody>\n",
       "</table>\n",
       "<p>2 rows × 31 columns</p>\n",
       "</div>"
      ],
      "text/plain": [
       "                                                     genres  danceability  \\\n",
       "  id                                                                        \n",
       "0 2Vc6NJ9PW9gD9q343XFRKx  [Dark Trap, Underground Rap, Rap]         0.831   \n",
       "1 7pgJBLVz5VmnL7uGHmRj6p                        [Dark Trap]         0.719   \n",
       "\n",
       "                          energy  key  loudness  mode  speechiness  \\\n",
       "  id                                                                 \n",
       "0 2Vc6NJ9PW9gD9q343XFRKx   0.814    2    -7.364     1       0.4200   \n",
       "1 7pgJBLVz5VmnL7uGHmRj6p   0.493    8    -7.230     1       0.0794   \n",
       "\n",
       "                          acousticness  instrumentalness  liveness  ...  \\\n",
       "  id                                                                ...   \n",
       "0 2Vc6NJ9PW9gD9q343XFRKx        0.0598            0.0134    0.0556  ...   \n",
       "1 7pgJBLVz5VmnL7uGHmRj6p        0.4010            0.0000    0.1180  ...   \n",
       "\n",
       "                          tempo_confidence  mode_confidence  key_confidence  \\\n",
       "  id                                                                          \n",
       "0 2Vc6NJ9PW9gD9q343XFRKx             0.307            0.543           0.506   \n",
       "1 7pgJBLVz5VmnL7uGHmRj6p             0.343            0.542           0.414   \n",
       "\n",
       "                                                  name_artist meta_tempo  \\\n",
       "  id                                                                       \n",
       "0 2Vc6NJ9PW9gD9q343XFRKx    Mercury: Retrograde['Ghostemane']    149.318   \n",
       "1 7pgJBLVz5VmnL7uGHmRj6p  Pathology['Don Kenobi', 'SkyDxddy']    137.895   \n",
       "\n",
       "                         meta_mode  release_year       lr_artists_names  \\\n",
       "  id                                                                      \n",
       "0 2Vc6NJ9PW9gD9q343XFRKx     0.818          2017           [ghostemane]   \n",
       "1 7pgJBLVz5VmnL7uGHmRj6p     0.818          2020  [donkenobi, skydxddy]   \n",
       "\n",
       "                                                lr_genres  \\\n",
       "  id                                                        \n",
       "0 2Vc6NJ9PW9gD9q343XFRKx  [darktrap, undergroundrap, rap]   \n",
       "1 7pgJBLVz5VmnL7uGHmRj6p                       [darktrap]   \n",
       "\n",
       "                                                            soup  \n",
       "  id                                                              \n",
       "0 2Vc6NJ9PW9gD9q343XFRKx  ghostemane darktrap undergroundrap rap  \n",
       "1 7pgJBLVz5VmnL7uGHmRj6p             donkenobi skydxddy darktrap  \n",
       "\n",
       "[2 rows x 31 columns]"
      ]
     },
     "execution_count": 112,
     "metadata": {},
     "output_type": "execute_result"
    }
   ],
   "source": [
    "dataset.head(2)"
   ]
  },
  {
   "cell_type": "markdown",
   "id": "c32306b0",
   "metadata": {},
   "source": [
    "## Creating the soup embeddings using Word2Vec from Gensim\n",
    "#### Vectorizing the soup"
   ]
  },
  {
   "cell_type": "code",
   "execution_count": 113,
   "id": "6803e3c1",
   "metadata": {},
   "outputs": [],
   "source": [
    "from gensim.models import Word2Vec\n",
    "from sklearn.metrics.pairwise import cosine_similarity\n",
    "from sklearn.preprocessing import StandardScaler\n"
   ]
  },
  {
   "cell_type": "code",
   "execution_count": 114,
   "id": "9f4dc610",
   "metadata": {},
   "outputs": [],
   "source": [
    "sentences = dataset['soup'].str.split()"
   ]
  },
  {
   "cell_type": "code",
   "execution_count": 115,
   "id": "467386f8",
   "metadata": {},
   "outputs": [],
   "source": [
    "word2vec_model = Word2Vec(sentences, vector_size=100, window=3, min_count=1)"
   ]
  },
  {
   "cell_type": "markdown",
   "id": "18048c38",
   "metadata": {},
   "source": [
    "One problem that arose was that if the genres were not listed in the same order, the cosine simiarity would decrease, which is not an effect we want considering our context. Therefore, a different way was implemented where for every type of textual features (artists,genre), a mean embedding of it was created so that they average out and the order would not matter"
   ]
  },
  {
   "cell_type": "code",
   "execution_count": 116,
   "id": "7de2d203",
   "metadata": {},
   "outputs": [],
   "source": [
    "def get_embeddings(sentences):\n",
    "    \n",
    "    #print(sentences[0][0])\n",
    "    #first_word = [x[0] for x in sentences]\n",
    "    \n",
    "    embeddings = [word2vec_model.wv[entry] for entry in sentences]\n",
    "    \n",
    "    return embeddings\n",
    "\n",
    "def get_mean_embeddings(embeddings):\n",
    "    mean_embedding = np.mean(embeddings, axis=0)\n",
    "    \n",
    "    return mean_embedding\n"
   ]
  },
  {
   "cell_type": "code",
   "execution_count": 117,
   "id": "12501e62",
   "metadata": {},
   "outputs": [],
   "source": [
    "artist_embeddings = get_embeddings(dataset['lr_artists_names'])\n",
    "mean_artist_embeddings = [get_mean_embeddings(artist_embedding) for artist_embedding in artist_embeddings ]"
   ]
  },
  {
   "cell_type": "code",
   "execution_count": 118,
   "id": "69cba31c",
   "metadata": {},
   "outputs": [],
   "source": [
    "genre_embeddings = get_embeddings(dataset['lr_genres'])\n",
    "mean_genre_embeddings = [get_mean_embeddings(genre_embedding) for genre_embedding in genre_embeddings ]"
   ]
  },
  {
   "cell_type": "code",
   "execution_count": 119,
   "id": "fae13315",
   "metadata": {},
   "outputs": [],
   "source": [
    "def join_embeddings(list1, list2):\n",
    "    \n",
    "    # Initialize an empty list to store the concatenated vectors\n",
    "    concatenated_list = []\n",
    "\n",
    "    # Iterate through each pair of vectors and concatenate them\n",
    "    for vector1, vector2 in zip(list1, list2):\n",
    "        concatenated_vector = np.concatenate((vector1, vector2), axis=None)\n",
    "        concatenated_list.append(concatenated_vector)\n",
    "\n",
    "    # Convert the list of concatenated vectors to a numpy array\n",
    "    matrix = np.array(concatenated_list)\n",
    "    \n",
    "    return matrix"
   ]
  },
  {
   "cell_type": "code",
   "execution_count": 120,
   "id": "804c1e92",
   "metadata": {},
   "outputs": [],
   "source": [
    "embeddings_matrix = join_embeddings(mean_genre_embeddings,mean_artist_embeddings)"
   ]
  },
  {
   "cell_type": "markdown",
   "id": "184334e8",
   "metadata": {},
   "source": [
    "### Adding the numerical features to the feature vector"
   ]
  },
  {
   "cell_type": "code",
   "execution_count": 121,
   "id": "cd0c31b0",
   "metadata": {},
   "outputs": [],
   "source": [
    "numerical_columns = ['meta_tempo',\n",
    " 'meta_mode',\n",
    " 'danceability',\n",
    " 'energy',\n",
    " 'loudness',\n",
    " 'speechiness',\n",
    " 'acousticness',\n",
    " 'instrumentalness',\n",
    " 'liveness',\n",
    " 'valence',\n",
    " 'time_signature',\n",
    " 'duration_ms',\n",
    " 'no_of_sections',\n",
    " 'release_year']"
   ]
  },
  {
   "cell_type": "code",
   "execution_count": 32,
   "id": "4ae4923b",
   "metadata": {},
   "outputs": [],
   "source": [
    "numerical_columns_to_normalise = ['meta_tempo', 'loudness', 'duration_ms']\n",
    "\n",
    "numerical_columns_to_not_normalise = ['meta_mode',\n",
    " 'danceability',\n",
    " 'energy',\n",
    " 'speechiness',\n",
    " 'acousticness',\n",
    " 'instrumentalness',\n",
    " 'liveness',\n",
    " 'valence',\n",
    " 'time_signature',\n",
    " 'no_of_sections',\n",
    "'release_year']"
   ]
  },
  {
   "cell_type": "markdown",
   "id": "df1d1f12",
   "metadata": {},
   "source": [
    "Numerical features to be standardized:\n",
    "- meta tempo\n",
    "- loudness\n",
    "- time signature\n",
    "- duration_ms\n",
    "- no_of_Sections\n",
    "- release_year"
   ]
  },
  {
   "cell_type": "code",
   "execution_count": 122,
   "id": "b4842a7c",
   "metadata": {},
   "outputs": [],
   "source": [
    "matrix_to_be_normalised = dataset[numerical_columns].values\n",
    "#matrix_to_not_be_normalised = dataset[numerical_columns_to_not_normalise].values"
   ]
  },
  {
   "cell_type": "code",
   "execution_count": 123,
   "id": "d6f34f1d",
   "metadata": {},
   "outputs": [],
   "source": [
    "scaler = StandardScaler()\n",
    "normalized_numerical_matrix = scaler.fit_transform(matrix_to_be_normalised)"
   ]
  },
  {
   "cell_type": "code",
   "execution_count": 34,
   "id": "23a23248",
   "metadata": {},
   "outputs": [],
   "source": [
    "#full_numerical_matrix =  np.hstack((matrix_to_be_normalised, matrix_to_not_be_normalised))"
   ]
  },
  {
   "cell_type": "code",
   "execution_count": null,
   "id": "1c24d835",
   "metadata": {},
   "outputs": [],
   "source": [
    "#not too bad\n",
    "#from sklearn.preprocessing import QuantileTransformer\n",
    "\n",
    "#transformer = QuantileTransformer(output_distribution='normal')\n",
    "#normalized_numerical_matrix = transformer.fit_transform(numerical_matrix)"
   ]
  },
  {
   "cell_type": "markdown",
   "id": "56001106",
   "metadata": {},
   "source": [
    "**Combining both the embeddings matrix with the numerical matrix**:"
   ]
  },
  {
   "cell_type": "code",
   "execution_count": 124,
   "id": "d17883db",
   "metadata": {},
   "outputs": [],
   "source": [
    "combined_matrix = np.hstack((embeddings_matrix, normalized_numerical_matrix))"
   ]
  },
  {
   "cell_type": "code",
   "execution_count": 125,
   "id": "e5029ca6",
   "metadata": {},
   "outputs": [
    {
     "data": {
      "text/plain": [
       "(33957, 214)"
      ]
     },
     "execution_count": 125,
     "metadata": {},
     "output_type": "execute_result"
    }
   ],
   "source": [
    "combined_matrix.shape"
   ]
  },
  {
   "cell_type": "markdown",
   "id": "21e6bb98",
   "metadata": {},
   "source": [
    "**Calculating the cosine similarity matrix**:"
   ]
  },
  {
   "cell_type": "code",
   "execution_count": 126,
   "id": "9a3c9ead",
   "metadata": {},
   "outputs": [],
   "source": [
    "cosine_sim = cosine_similarity(combined_matrix)"
   ]
  },
  {
   "cell_type": "code",
   "execution_count": 127,
   "id": "03f0cb2d",
   "metadata": {},
   "outputs": [
    {
     "data": {
      "text/plain": [
       "(33957, 33957)"
      ]
     },
     "execution_count": 127,
     "metadata": {},
     "output_type": "execute_result"
    }
   ],
   "source": [
    "cosine_sim.shape"
   ]
  },
  {
   "cell_type": "markdown",
   "id": "0d754dd2",
   "metadata": {},
   "source": [
    "Test it with an input song"
   ]
  },
  {
   "cell_type": "code",
   "execution_count": 128,
   "id": "25249841",
   "metadata": {},
   "outputs": [],
   "source": [
    "import textwrap\n",
    "from IPython.display import display, HTML\n",
    "\n",
    "def wrap_text(text, max_width):\n",
    "    wrapped_name = textwrap.shorten(text, width=max_width, placeholder=\"...\")\n",
    "    return wrapped_name"
   ]
  },
  {
   "cell_type": "code",
   "execution_count": 129,
   "id": "cd87ff47",
   "metadata": {},
   "outputs": [],
   "source": [
    "# Function that takes in movie title as input and outputs most similar movies\n",
    "\n",
    "def get_recommendations(title, cosine_sim, dataset, no_of_recs = 5):\n",
    "    \n",
    "    #get the index of the song title\n",
    "    idx = dataset[dataset['name']==title].index[0][0]\n",
    "    print(idx)\n",
    "    if isinstance(idx, pd.Series):\n",
    "        idx = idx[0]\n",
    "    \n",
    "    # Get the pairwsie similarity scores of all songs with that song\n",
    "    scores = list(enumerate(cosine_sim[idx]))\n",
    "    \n",
    "    # Sort the songs based on the similarity scores\n",
    "\n",
    "    sorted_recs = sorted(scores, key= lambda x: x[1], reverse=True)\n",
    "\n",
    "    # Get the scores of the x most similar songs\n",
    "    sorted_recs = sorted_recs[1:no_of_recs+1]\n",
    "    \n",
    "    \n",
    "    # Get the song indices\n",
    "    \n",
    "    rec_song_indices, rec_scores = zip(*sorted_recs)\n",
    "    \n",
    "    rec_song_names = dataset.iloc[list(rec_song_indices)]['name'].values\n",
    "    rec_song_artists = dataset.iloc[list(rec_song_indices)]['artists_names'].values\n",
    "    rec_song_popularity = list(enumerate(dataset.iloc[list(rec_song_indices)]['popularity'].values))\n",
    "    rec_song_link = dataset.iloc[list(rec_song_indices)]['uri'].values\n",
    "    \n",
    "    \n",
    "    \n",
    "    sorted_songs_based_on_popularity = sorted(rec_song_popularity, key= lambda x: x[1], reverse=True)\n",
    "    \n",
    "        \n",
    "    rec_song_indices_on_popularity, rec_scores_on_popularity = zip(*sorted_songs_based_on_popularity)\n",
    "    \n",
    "    \n",
    "    print(\"Songs Recommendations for the song: \",title, \"By:\",  end=\" \")\n",
    "    \n",
    "    for i in range(len(dataset.iloc[idx]['artists_names'])):\n",
    "        if i == len(dataset.iloc[idx]['artists_names'])-1:\n",
    "            print(dataset.iloc[idx]['artists_names'][i])\n",
    "        else:\n",
    "            print(dataset.iloc[idx]['artists_names'][i], end=\" and \")\n",
    "        \n",
    "    print(\"\\n\")\n",
    "    print(f\"{'Song Title':<35} {'Artists':<25} {'Similarity Score':<30} {'Popularity'}\")\n",
    "    print(\"=\" * 115)\n",
    "        \n",
    "    for i in rec_song_indices_on_popularity:\n",
    "        \n",
    "        wrapped_name = wrap_text(rec_song_names[i],35)\n",
    "        \n",
    "        \n",
    "        formatted_name = f\"{wrapped_name:<{35}}\"\n",
    "        formatted_artist = f\"{rec_song_artists[i][0]:<{25}}\"\n",
    "        formatted_score = f\"{rec_scores[i]:<{30}.2f}\"\n",
    "    \n",
    "        print(f\"{formatted_name} {formatted_artist} {formatted_score} {rec_song_popularity[i][1]}\")\n",
    "        \n",
    "        print(\"\\nLink To Song: \")\n",
    "        spotify_uri = rec_song_link[i]\n",
    "        link = f'<a href=\"{spotify_uri}\" style=\"color: blue;\">{spotify_uri}</a>'\n",
    "        display(HTML(link))\n",
    "        \n",
    "        print(\"-\"*100)\n",
    "        \n",
    "\n"
   ]
  },
  {
   "cell_type": "code",
   "execution_count": 146,
   "id": "9f6c31ca",
   "metadata": {},
   "outputs": [
    {
     "name": "stdout",
     "output_type": "stream",
     "text": [
      "11828\n",
      "Songs Recommendations for the song:  SICKO MODE By: Travis Scott\n",
      "\n",
      "\n",
      "Song Title                          Artists                   Similarity Score               Popularity\n",
      "===================================================================================================================\n",
      "Wasted (feat. Lil Uzi Vert)         Juice WRLD                0.94                           77\n",
      "\n",
      "Link To Song: \n"
     ]
    },
    {
     "data": {
      "text/html": [
       "<a href=\"spotify:track:1a7WZZZH7LzyvorhpOJFTe\" style=\"color: blue;\">spotify:track:1a7WZZZH7LzyvorhpOJFTe</a>"
      ],
      "text/plain": [
       "<IPython.core.display.HTML object>"
      ]
     },
     "metadata": {},
     "output_type": "display_data"
    },
    {
     "name": "stdout",
     "output_type": "stream",
     "text": [
      "----------------------------------------------------------------------------------------------------\n",
      "Walk It Talk It                     Migos                     0.97                           76\n",
      "\n",
      "Link To Song: \n"
     ]
    },
    {
     "data": {
      "text/html": [
       "<a href=\"spotify:track:6n4U3TlzUGhdSFbUUhTvLP\" style=\"color: blue;\">spotify:track:6n4U3TlzUGhdSFbUUhTvLP</a>"
      ],
      "text/plain": [
       "<IPython.core.display.HTML object>"
      ]
     },
     "metadata": {},
     "output_type": "display_data"
    },
    {
     "name": "stdout",
     "output_type": "stream",
     "text": [
      "----------------------------------------------------------------------------------------------------\n",
      "wokeuplikethis*                     Playboi Carti             0.92                           75\n",
      "\n",
      "Link To Song: \n"
     ]
    },
    {
     "data": {
      "text/html": [
       "<a href=\"spotify:track:59J5nzL1KniFHnU120dQzt\" style=\"color: blue;\">spotify:track:59J5nzL1KniFHnU120dQzt</a>"
      ],
      "text/plain": [
       "<IPython.core.display.HTML object>"
      ]
     },
     "metadata": {},
     "output_type": "display_data"
    },
    {
     "name": "stdout",
     "output_type": "stream",
     "text": [
      "----------------------------------------------------------------------------------------------------\n",
      "No Limit                            G-Eazy                    0.93                           72\n",
      "\n",
      "Link To Song: \n"
     ]
    },
    {
     "data": {
      "text/html": [
       "<a href=\"spotify:track:2DQ1ITjI0YoLFzuADN1ZBW\" style=\"color: blue;\">spotify:track:2DQ1ITjI0YoLFzuADN1ZBW</a>"
      ],
      "text/plain": [
       "<IPython.core.display.HTML object>"
      ]
     },
     "metadata": {},
     "output_type": "display_data"
    },
    {
     "name": "stdout",
     "output_type": "stream",
     "text": [
      "----------------------------------------------------------------------------------------------------\n",
      "Yamborghini High (feat. Juicy J)    A$AP Mob                  0.94                           65\n",
      "\n",
      "Link To Song: \n"
     ]
    },
    {
     "data": {
      "text/html": [
       "<a href=\"spotify:track:2rqUblDWJKlMVwh9uJc0Vv\" style=\"color: blue;\">spotify:track:2rqUblDWJKlMVwh9uJc0Vv</a>"
      ],
      "text/plain": [
       "<IPython.core.display.HTML object>"
      ]
     },
     "metadata": {},
     "output_type": "display_data"
    },
    {
     "name": "stdout",
     "output_type": "stream",
     "text": [
      "----------------------------------------------------------------------------------------------------\n",
      "No Limit REMIX (feat. A$AP...       G-Eazy                    0.93                           57\n",
      "\n",
      "Link To Song: \n"
     ]
    },
    {
     "data": {
      "text/html": [
       "<a href=\"spotify:track:4yfdnCOjuDwf2Ivpo8vg8H\" style=\"color: blue;\">spotify:track:4yfdnCOjuDwf2Ivpo8vg8H</a>"
      ],
      "text/plain": [
       "<IPython.core.display.HTML object>"
      ]
     },
     "metadata": {},
     "output_type": "display_data"
    },
    {
     "name": "stdout",
     "output_type": "stream",
     "text": [
      "----------------------------------------------------------------------------------------------------\n",
      "Versatile                           Kodak Black               0.92                           38\n",
      "\n",
      "Link To Song: \n"
     ]
    },
    {
     "data": {
      "text/html": [
       "<a href=\"spotify:track:0puKS9mGfltVLx23BGyfmi\" style=\"color: blue;\">spotify:track:0puKS9mGfltVLx23BGyfmi</a>"
      ],
      "text/plain": [
       "<IPython.core.display.HTML object>"
      ]
     },
     "metadata": {},
     "output_type": "display_data"
    },
    {
     "name": "stdout",
     "output_type": "stream",
     "text": [
      "----------------------------------------------------------------------------------------------------\n",
      "Juices                              Virtual Riot              0.93                           29\n",
      "\n",
      "Link To Song: \n"
     ]
    },
    {
     "data": {
      "text/html": [
       "<a href=\"spotify:track:6CPHLtLHWYdSxEuQcihigi\" style=\"color: blue;\">spotify:track:6CPHLtLHWYdSxEuQcihigi</a>"
      ],
      "text/plain": [
       "<IPython.core.display.HTML object>"
      ]
     },
     "metadata": {},
     "output_type": "display_data"
    },
    {
     "name": "stdout",
     "output_type": "stream",
     "text": [
      "----------------------------------------------------------------------------------------------------\n",
      "Bazaar                              Madcore                   0.92                           3\n",
      "\n",
      "Link To Song: \n"
     ]
    },
    {
     "data": {
      "text/html": [
       "<a href=\"spotify:track:5wxUzMTJw3ev7jJOfzmDS3\" style=\"color: blue;\">spotify:track:5wxUzMTJw3ev7jJOfzmDS3</a>"
      ],
      "text/plain": [
       "<IPython.core.display.HTML object>"
      ]
     },
     "metadata": {},
     "output_type": "display_data"
    },
    {
     "name": "stdout",
     "output_type": "stream",
     "text": [
      "----------------------------------------------------------------------------------------------------\n",
      "Testicle Twister                    Le Lion                   0.92                           0\n",
      "\n",
      "Link To Song: \n"
     ]
    },
    {
     "data": {
      "text/html": [
       "<a href=\"spotify:track:7zs4U1U5Rbj5k7nQ1vuuGF\" style=\"color: blue;\">spotify:track:7zs4U1U5Rbj5k7nQ1vuuGF</a>"
      ],
      "text/plain": [
       "<IPython.core.display.HTML object>"
      ]
     },
     "metadata": {},
     "output_type": "display_data"
    },
    {
     "name": "stdout",
     "output_type": "stream",
     "text": [
      "----------------------------------------------------------------------------------------------------\n"
     ]
    }
   ],
   "source": [
    "get_recommendations(\"SICKO MODE\", cosine_sim, dataset = dataset, no_of_recs=10)"
   ]
  },
  {
   "cell_type": "code",
   "execution_count": null,
   "id": "b5c7d3e7",
   "metadata": {},
   "outputs": [],
   "source": [
    "dataset[dat'name']"
   ]
  },
  {
   "cell_type": "markdown",
   "id": "9d50fe4e",
   "metadata": {},
   "source": [
    "### Saving the cosine similarity numbers and refining the dataset to save only what we will be needing for the web-app"
   ]
  },
  {
   "cell_type": "markdown",
   "id": "e2d78c43",
   "metadata": {},
   "source": [
    "getting only the top 100 cosine similarity numbers:"
   ]
  },
  {
   "cell_type": "code",
   "execution_count": 131,
   "id": "bf7896a2",
   "metadata": {},
   "outputs": [
    {
     "name": "stdout",
     "output_type": "stream",
     "text": [
      "0\n",
      "200\n",
      "400\n",
      "600\n",
      "800\n",
      "1000\n",
      "1200\n",
      "1400\n",
      "1600\n",
      "1800\n",
      "2000\n",
      "2200\n",
      "2400\n",
      "2600\n",
      "2800\n",
      "3000\n",
      "3200\n",
      "3400\n",
      "3600\n",
      "3800\n",
      "4000\n",
      "4200\n",
      "4400\n",
      "4600\n",
      "4800\n",
      "5000\n",
      "5200\n",
      "5400\n",
      "5600\n",
      "5800\n",
      "6000\n",
      "6200\n",
      "6400\n",
      "6600\n",
      "6800\n",
      "7000\n",
      "7200\n",
      "7400\n",
      "7600\n",
      "7800\n",
      "8000\n",
      "8200\n",
      "8400\n",
      "8600\n",
      "8800\n",
      "9000\n",
      "9200\n",
      "9400\n",
      "9600\n",
      "9800\n",
      "10000\n",
      "10200\n",
      "10400\n",
      "10600\n",
      "10800\n",
      "11000\n",
      "11200\n",
      "11400\n",
      "11600\n",
      "11800\n",
      "12000\n",
      "12200\n",
      "12400\n",
      "12600\n",
      "12800\n",
      "13000\n",
      "13200\n",
      "13400\n",
      "13600\n",
      "13800\n",
      "14000\n",
      "14200\n",
      "14400\n",
      "14600\n",
      "14800\n",
      "15000\n",
      "15200\n",
      "15400\n",
      "15600\n",
      "15800\n",
      "16000\n",
      "16200\n",
      "16400\n",
      "16600\n",
      "16800\n",
      "17000\n",
      "17200\n",
      "17400\n",
      "17600\n",
      "17800\n",
      "18000\n",
      "18200\n",
      "18400\n",
      "18600\n",
      "18800\n",
      "19000\n",
      "19200\n",
      "19400\n",
      "19600\n",
      "19800\n",
      "20000\n",
      "20200\n",
      "20400\n",
      "20600\n",
      "20800\n",
      "21000\n",
      "21200\n",
      "21400\n",
      "21600\n",
      "21800\n",
      "22000\n",
      "22200\n",
      "22400\n",
      "22600\n",
      "22800\n",
      "23000\n",
      "23200\n",
      "23400\n",
      "23600\n",
      "23800\n",
      "24000\n",
      "24200\n",
      "24400\n",
      "24600\n",
      "24800\n",
      "25000\n",
      "25200\n",
      "25400\n",
      "25600\n",
      "25800\n",
      "26000\n",
      "26200\n",
      "26400\n",
      "26600\n",
      "26800\n",
      "27000\n",
      "27200\n",
      "27400\n",
      "27600\n",
      "27800\n",
      "28000\n",
      "28200\n",
      "28400\n",
      "28600\n",
      "28800\n",
      "29000\n",
      "29200\n",
      "29400\n",
      "29600\n",
      "29800\n",
      "30000\n",
      "30200\n",
      "30400\n",
      "30600\n",
      "30800\n",
      "31000\n",
      "31200\n",
      "31400\n",
      "31600\n",
      "31800\n",
      "32000\n",
      "32200\n",
      "32400\n",
      "32600\n",
      "32800\n",
      "33000\n",
      "33200\n",
      "33400\n",
      "33600\n",
      "33800\n"
     ]
    }
   ],
   "source": [
    "top_100_cosine_sim = []\n",
    "for i in range(len(cosine_sim)):\n",
    "    \n",
    "    if i%200==0:\n",
    "        print(i)\n",
    "    \n",
    "    sorted_similarities = sorted(list(enumerate(cosine_sim[i])),  key= lambda x: x[1], reverse=True)\n",
    "    \n",
    "    \n",
    "    top_100_cosine_sim.append(sorted_similarities[1:101])"
   ]
  },
  {
   "cell_type": "markdown",
   "id": "1e83fabd",
   "metadata": {},
   "source": [
    "testing to see if it works:"
   ]
  },
  {
   "cell_type": "code",
   "execution_count": 132,
   "id": "4acb8ebd",
   "metadata": {},
   "outputs": [
    {
     "name": "stdout",
     "output_type": "stream",
     "text": [
      "11099\n"
     ]
    },
    {
     "data": {
      "text/plain": [
       "       id                    \n",
       "13119  3lBRNqXjPp2j3JMTCXDTNO                               Best Thing I Never Had\n",
       "11089  2WEjutXYTp4QW85jLDMcXQ                                             Sad Song\n",
       "14826  4esOae7i4rqTbAu9o5Pxco                                         Girl on Fire\n",
       "15398  4cAgkb0ifwn0FSHGXnr4F6                                           New Slaves\n",
       "30477  048AbE9LVZn2qc4mKxoEO9      Finale (feat. Nicholas Petricca) - Netsky Remix\n",
       "                                                       ...                        \n",
       "13079  4NjR63Up0uMkQBlKvlZd1l                                            Stickwitu\n",
       "10816  4mBJUbN4VLcpT36O4uf8t3                                                 Torn\n",
       "1411   0JkLImaybz8gfwyyPpslVW    CLYDE (I Hope At Least One Of My Ex-Girlfriend...\n",
       "30162  6uX6WZUzgIQ6a6diuUIWVg                                                 Fade\n",
       "13255  0pj1IVRbwrFGnjn2FQ22r3                                         Lost In Love\n",
       "Name: name, Length: 100, dtype: object"
      ]
     },
     "execution_count": 132,
     "metadata": {},
     "output_type": "execute_result"
    }
   ],
   "source": [
    "#get the index of the song title\n",
    "idx = dataset[dataset['name']==\"Skyscraper\"].index[0][0]\n",
    "\n",
    "print(idx)\n",
    "\n",
    "if isinstance(idx, pd.Series):\n",
    "    idx = idx[0]\n",
    "    \n",
    "top = top_100_cosine_sim[idx]\n",
    "\n",
    "idx = [x[0] for x in top]\n",
    "\n",
    "names = dataset.iloc[idx]['name']\n",
    "\n",
    "names"
   ]
  },
  {
   "cell_type": "code",
   "execution_count": 133,
   "id": "186a54ad",
   "metadata": {},
   "outputs": [],
   "source": [
    "import pickle"
   ]
  },
  {
   "cell_type": "code",
   "execution_count": 134,
   "id": "f3640b9f",
   "metadata": {
    "scrolled": true
   },
   "outputs": [
    {
     "data": {
      "text/html": [
       "<div>\n",
       "<style scoped>\n",
       "    .dataframe tbody tr th:only-of-type {\n",
       "        vertical-align: middle;\n",
       "    }\n",
       "\n",
       "    .dataframe tbody tr th {\n",
       "        vertical-align: top;\n",
       "    }\n",
       "\n",
       "    .dataframe thead th {\n",
       "        text-align: right;\n",
       "    }\n",
       "</style>\n",
       "<table border=\"1\" class=\"dataframe\">\n",
       "  <thead>\n",
       "    <tr style=\"text-align: right;\">\n",
       "      <th></th>\n",
       "      <th></th>\n",
       "      <th>genres</th>\n",
       "      <th>danceability</th>\n",
       "      <th>energy</th>\n",
       "      <th>key</th>\n",
       "      <th>loudness</th>\n",
       "      <th>mode</th>\n",
       "      <th>speechiness</th>\n",
       "      <th>acousticness</th>\n",
       "      <th>instrumentalness</th>\n",
       "      <th>liveness</th>\n",
       "      <th>...</th>\n",
       "      <th>tempo_confidence</th>\n",
       "      <th>mode_confidence</th>\n",
       "      <th>key_confidence</th>\n",
       "      <th>name_artist</th>\n",
       "      <th>meta_tempo</th>\n",
       "      <th>meta_mode</th>\n",
       "      <th>release_year</th>\n",
       "      <th>lr_artists_names</th>\n",
       "      <th>lr_genres</th>\n",
       "      <th>soup</th>\n",
       "    </tr>\n",
       "    <tr>\n",
       "      <th></th>\n",
       "      <th>id</th>\n",
       "      <th></th>\n",
       "      <th></th>\n",
       "      <th></th>\n",
       "      <th></th>\n",
       "      <th></th>\n",
       "      <th></th>\n",
       "      <th></th>\n",
       "      <th></th>\n",
       "      <th></th>\n",
       "      <th></th>\n",
       "      <th></th>\n",
       "      <th></th>\n",
       "      <th></th>\n",
       "      <th></th>\n",
       "      <th></th>\n",
       "      <th></th>\n",
       "      <th></th>\n",
       "      <th></th>\n",
       "      <th></th>\n",
       "      <th></th>\n",
       "      <th></th>\n",
       "    </tr>\n",
       "  </thead>\n",
       "  <tbody>\n",
       "    <tr>\n",
       "      <th>0</th>\n",
       "      <th>2Vc6NJ9PW9gD9q343XFRKx</th>\n",
       "      <td>[Dark Trap, Underground Rap, Rap]</td>\n",
       "      <td>0.831</td>\n",
       "      <td>0.814</td>\n",
       "      <td>2</td>\n",
       "      <td>-7.364</td>\n",
       "      <td>1</td>\n",
       "      <td>0.4200</td>\n",
       "      <td>0.0598</td>\n",
       "      <td>0.0134</td>\n",
       "      <td>0.0556</td>\n",
       "      <td>...</td>\n",
       "      <td>0.307</td>\n",
       "      <td>0.543</td>\n",
       "      <td>0.506</td>\n",
       "      <td>Mercury: Retrograde['Ghostemane']</td>\n",
       "      <td>149.318</td>\n",
       "      <td>0.818</td>\n",
       "      <td>2017</td>\n",
       "      <td>[ghostemane]</td>\n",
       "      <td>[darktrap, undergroundrap, rap]</td>\n",
       "      <td>ghostemane darktrap undergroundrap rap</td>\n",
       "    </tr>\n",
       "    <tr>\n",
       "      <th>1</th>\n",
       "      <th>7pgJBLVz5VmnL7uGHmRj6p</th>\n",
       "      <td>[Dark Trap]</td>\n",
       "      <td>0.719</td>\n",
       "      <td>0.493</td>\n",
       "      <td>8</td>\n",
       "      <td>-7.230</td>\n",
       "      <td>1</td>\n",
       "      <td>0.0794</td>\n",
       "      <td>0.4010</td>\n",
       "      <td>0.0000</td>\n",
       "      <td>0.1180</td>\n",
       "      <td>...</td>\n",
       "      <td>0.343</td>\n",
       "      <td>0.542</td>\n",
       "      <td>0.414</td>\n",
       "      <td>Pathology['Don Kenobi', 'SkyDxddy']</td>\n",
       "      <td>137.895</td>\n",
       "      <td>0.818</td>\n",
       "      <td>2020</td>\n",
       "      <td>[donkenobi, skydxddy]</td>\n",
       "      <td>[darktrap]</td>\n",
       "      <td>donkenobi skydxddy darktrap</td>\n",
       "    </tr>\n",
       "  </tbody>\n",
       "</table>\n",
       "<p>2 rows × 31 columns</p>\n",
       "</div>"
      ],
      "text/plain": [
       "                                                     genres  danceability  \\\n",
       "  id                                                                        \n",
       "0 2Vc6NJ9PW9gD9q343XFRKx  [Dark Trap, Underground Rap, Rap]         0.831   \n",
       "1 7pgJBLVz5VmnL7uGHmRj6p                        [Dark Trap]         0.719   \n",
       "\n",
       "                          energy  key  loudness  mode  speechiness  \\\n",
       "  id                                                                 \n",
       "0 2Vc6NJ9PW9gD9q343XFRKx   0.814    2    -7.364     1       0.4200   \n",
       "1 7pgJBLVz5VmnL7uGHmRj6p   0.493    8    -7.230     1       0.0794   \n",
       "\n",
       "                          acousticness  instrumentalness  liveness  ...  \\\n",
       "  id                                                                ...   \n",
       "0 2Vc6NJ9PW9gD9q343XFRKx        0.0598            0.0134    0.0556  ...   \n",
       "1 7pgJBLVz5VmnL7uGHmRj6p        0.4010            0.0000    0.1180  ...   \n",
       "\n",
       "                          tempo_confidence  mode_confidence  key_confidence  \\\n",
       "  id                                                                          \n",
       "0 2Vc6NJ9PW9gD9q343XFRKx             0.307            0.543           0.506   \n",
       "1 7pgJBLVz5VmnL7uGHmRj6p             0.343            0.542           0.414   \n",
       "\n",
       "                                                  name_artist meta_tempo  \\\n",
       "  id                                                                       \n",
       "0 2Vc6NJ9PW9gD9q343XFRKx    Mercury: Retrograde['Ghostemane']    149.318   \n",
       "1 7pgJBLVz5VmnL7uGHmRj6p  Pathology['Don Kenobi', 'SkyDxddy']    137.895   \n",
       "\n",
       "                         meta_mode  release_year       lr_artists_names  \\\n",
       "  id                                                                      \n",
       "0 2Vc6NJ9PW9gD9q343XFRKx     0.818          2017           [ghostemane]   \n",
       "1 7pgJBLVz5VmnL7uGHmRj6p     0.818          2020  [donkenobi, skydxddy]   \n",
       "\n",
       "                                                lr_genres  \\\n",
       "  id                                                        \n",
       "0 2Vc6NJ9PW9gD9q343XFRKx  [darktrap, undergroundrap, rap]   \n",
       "1 7pgJBLVz5VmnL7uGHmRj6p                       [darktrap]   \n",
       "\n",
       "                                                            soup  \n",
       "  id                                                              \n",
       "0 2Vc6NJ9PW9gD9q343XFRKx  ghostemane darktrap undergroundrap rap  \n",
       "1 7pgJBLVz5VmnL7uGHmRj6p             donkenobi skydxddy darktrap  \n",
       "\n",
       "[2 rows x 31 columns]"
      ]
     },
     "execution_count": 134,
     "metadata": {},
     "output_type": "execute_result"
    }
   ],
   "source": [
    "dataset.head(2)"
   ]
  },
  {
   "cell_type": "code",
   "execution_count": 135,
   "id": "3beac696",
   "metadata": {},
   "outputs": [
    {
     "data": {
      "text/plain": [
       "Index(['genres', 'danceability', 'energy', 'key', 'loudness', 'mode',\n",
       "       'speechiness', 'acousticness', 'instrumentalness', 'liveness',\n",
       "       'valence', 'tempo', 'duration_ms', 'time_signature', 'uri', 'name',\n",
       "       'popularity', 'release_date', 'artists_names', 'images_url',\n",
       "       'no_of_sections', 'tempo_confidence', 'mode_confidence',\n",
       "       'key_confidence', 'name_artist', 'meta_tempo', 'meta_mode',\n",
       "       'release_year', 'lr_artists_names', 'lr_genres', 'soup'],\n",
       "      dtype='object')"
      ]
     },
     "execution_count": 135,
     "metadata": {},
     "output_type": "execute_result"
    }
   ],
   "source": [
    "dataset.columns"
   ]
  },
  {
   "cell_type": "code",
   "execution_count": 136,
   "id": "851fecd2",
   "metadata": {},
   "outputs": [],
   "source": [
    "refined_columns = ['name',\n",
    " 'uri',\n",
    " 'artists_names',\n",
    " 'release_year',\n",
    " 'popularity',\n",
    " 'images_url']"
   ]
  },
  {
   "cell_type": "code",
   "execution_count": 137,
   "id": "814d789b",
   "metadata": {},
   "outputs": [],
   "source": [
    "refined_df = dataset[refined_columns]"
   ]
  },
  {
   "cell_type": "code",
   "execution_count": 138,
   "id": "c31e12b7",
   "metadata": {},
   "outputs": [],
   "source": [
    "def format_song_with_artists(row):\n",
    "    return f\"{row['name']} - {', '.join(row['artists_names'])}\""
   ]
  },
  {
   "cell_type": "code",
   "execution_count": 139,
   "id": "098e62e6",
   "metadata": {},
   "outputs": [
    {
     "name": "stderr",
     "output_type": "stream",
     "text": [
      "C:\\Users\\Karim\\AppData\\Local\\Temp\\ipykernel_18828\\396183713.py:1: SettingWithCopyWarning: \n",
      "A value is trying to be set on a copy of a slice from a DataFrame.\n",
      "Try using .loc[row_indexer,col_indexer] = value instead\n",
      "\n",
      "See the caveats in the documentation: https://pandas.pydata.org/pandas-docs/stable/user_guide/indexing.html#returning-a-view-versus-a-copy\n",
      "  refined_df['song-artist'] = refined_df.apply(format_song_with_artists, axis=1)\n"
     ]
    }
   ],
   "source": [
    "refined_df['song-artist'] = refined_df.apply(format_song_with_artists, axis=1)"
   ]
  },
  {
   "cell_type": "code",
   "execution_count": 140,
   "id": "c621882d",
   "metadata": {},
   "outputs": [
    {
     "data": {
      "text/html": [
       "<div>\n",
       "<style scoped>\n",
       "    .dataframe tbody tr th:only-of-type {\n",
       "        vertical-align: middle;\n",
       "    }\n",
       "\n",
       "    .dataframe tbody tr th {\n",
       "        vertical-align: top;\n",
       "    }\n",
       "\n",
       "    .dataframe thead th {\n",
       "        text-align: right;\n",
       "    }\n",
       "</style>\n",
       "<table border=\"1\" class=\"dataframe\">\n",
       "  <thead>\n",
       "    <tr style=\"text-align: right;\">\n",
       "      <th></th>\n",
       "      <th></th>\n",
       "      <th>name</th>\n",
       "      <th>uri</th>\n",
       "      <th>artists_names</th>\n",
       "      <th>release_year</th>\n",
       "      <th>popularity</th>\n",
       "      <th>images_url</th>\n",
       "      <th>song-artist</th>\n",
       "    </tr>\n",
       "    <tr>\n",
       "      <th></th>\n",
       "      <th>id</th>\n",
       "      <th></th>\n",
       "      <th></th>\n",
       "      <th></th>\n",
       "      <th></th>\n",
       "      <th></th>\n",
       "      <th></th>\n",
       "      <th></th>\n",
       "    </tr>\n",
       "  </thead>\n",
       "  <tbody>\n",
       "    <tr>\n",
       "      <th>0</th>\n",
       "      <th>2Vc6NJ9PW9gD9q343XFRKx</th>\n",
       "      <td>Mercury: Retrograde</td>\n",
       "      <td>spotify:track:2Vc6NJ9PW9gD9q343XFRKx</td>\n",
       "      <td>[Ghostemane]</td>\n",
       "      <td>2017</td>\n",
       "      <td>2</td>\n",
       "      <td>https://i.scdn.co/image/ab67616d0000b27347fa48...</td>\n",
       "      <td>Mercury: Retrograde - Ghostemane</td>\n",
       "    </tr>\n",
       "    <tr>\n",
       "      <th>1</th>\n",
       "      <th>7pgJBLVz5VmnL7uGHmRj6p</th>\n",
       "      <td>Pathology</td>\n",
       "      <td>spotify:track:7pgJBLVz5VmnL7uGHmRj6p</td>\n",
       "      <td>[Don Kenobi, SkyDxddy]</td>\n",
       "      <td>2020</td>\n",
       "      <td>37</td>\n",
       "      <td>https://i.scdn.co/image/ab67616d0000b27391b3f8...</td>\n",
       "      <td>Pathology - Don Kenobi, SkyDxddy</td>\n",
       "    </tr>\n",
       "  </tbody>\n",
       "</table>\n",
       "</div>"
      ],
      "text/plain": [
       "                                         name  \\\n",
       "  id                                            \n",
       "0 2Vc6NJ9PW9gD9q343XFRKx  Mercury: Retrograde   \n",
       "1 7pgJBLVz5VmnL7uGHmRj6p            Pathology   \n",
       "\n",
       "                                                           uri  \\\n",
       "  id                                                             \n",
       "0 2Vc6NJ9PW9gD9q343XFRKx  spotify:track:2Vc6NJ9PW9gD9q343XFRKx   \n",
       "1 7pgJBLVz5VmnL7uGHmRj6p  spotify:track:7pgJBLVz5VmnL7uGHmRj6p   \n",
       "\n",
       "                                   artists_names  release_year  popularity  \\\n",
       "  id                                                                         \n",
       "0 2Vc6NJ9PW9gD9q343XFRKx            [Ghostemane]          2017           2   \n",
       "1 7pgJBLVz5VmnL7uGHmRj6p  [Don Kenobi, SkyDxddy]          2020          37   \n",
       "\n",
       "                                                                 images_url  \\\n",
       "  id                                                                          \n",
       "0 2Vc6NJ9PW9gD9q343XFRKx  https://i.scdn.co/image/ab67616d0000b27347fa48...   \n",
       "1 7pgJBLVz5VmnL7uGHmRj6p  https://i.scdn.co/image/ab67616d0000b27391b3f8...   \n",
       "\n",
       "                                               song-artist  \n",
       "  id                                                        \n",
       "0 2Vc6NJ9PW9gD9q343XFRKx  Mercury: Retrograde - Ghostemane  \n",
       "1 7pgJBLVz5VmnL7uGHmRj6p  Pathology - Don Kenobi, SkyDxddy  "
      ]
     },
     "execution_count": 140,
     "metadata": {},
     "output_type": "execute_result"
    }
   ],
   "source": [
    "refined_df.head(2)"
   ]
  },
  {
   "cell_type": "code",
   "execution_count": 141,
   "id": "a8b0b9ba",
   "metadata": {},
   "outputs": [],
   "source": [
    "rounded_matrix = [[(x, round(y, 3)) for x, y in row] for row in top_100_cosine_sim]"
   ]
  },
  {
   "cell_type": "code",
   "execution_count": 142,
   "id": "387a8de7",
   "metadata": {},
   "outputs": [],
   "source": [
    "file_path = \"D:/Python/Graduate Exercising/song_recommender/artifacts/unique_top_100_cos_similarity.pkl\"\n",
    "pickle.dump(rounded_matrix, open(file_path, 'wb'))"
   ]
  },
  {
   "cell_type": "code",
   "execution_count": 143,
   "id": "eccfb5fe",
   "metadata": {},
   "outputs": [],
   "source": [
    "file_path_2 = \"D:/Python/Graduate Exercising/song_recommender/artifacts/unique_refined_dataset.pkl\"\n",
    "pickle.dump(refined_df, open(file_path_2, 'wb'))"
   ]
  },
  {
   "cell_type": "markdown",
   "id": "9abd420e",
   "metadata": {},
   "source": [
    "## For the APP"
   ]
  },
  {
   "cell_type": "code",
   "execution_count": null,
   "id": "68f1440e",
   "metadata": {},
   "outputs": [],
   "source": [
    "#get the index of the song title\n",
    "#idx = dataset[dataset['name']==\"Girl on Fire\"].index[0][0]\n",
    "\n",
    "#print(idx)\n",
    "\n",
    "#if isinstance(idx, pd.Series):\n",
    "#    idx = idx[0]\n",
    "    \n",
    "#top = top_100_cosine_sim[idx]\n",
    "\n",
    "#idx = [x[0] for x in top]\n",
    "\n",
    "#names = dataset.iloc[idx]['name']\n",
    "\n",
    "#names"
   ]
  },
  {
   "cell_type": "code",
   "execution_count": 88,
   "id": "30bfb8d1",
   "metadata": {},
   "outputs": [],
   "source": [
    "#x = pd.read_pickle('artifacts/refined_dataset.pkl')\n",
    "#y = pickle.load(open('artifacts/top_100_cos_similarity.pkl','rb'))"
   ]
  }
 ],
 "metadata": {
  "kernelspec": {
   "display_name": "graduate_env",
   "language": "python",
   "name": "graduate_env"
  },
  "language_info": {
   "codemirror_mode": {
    "name": "ipython",
    "version": 3
   },
   "file_extension": ".py",
   "mimetype": "text/x-python",
   "name": "python",
   "nbconvert_exporter": "python",
   "pygments_lexer": "ipython3",
   "version": "3.10.8"
  }
 },
 "nbformat": 4,
 "nbformat_minor": 5
}
